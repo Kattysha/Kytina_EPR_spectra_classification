{
 "cells": [
  {
   "cell_type": "markdown",
   "id": "d8867138-cff0-4085-996f-3d477df40c0c",
   "metadata": {
    "tags": []
   },
   "source": [
    " # Импорт библиотек и установка \"seed\"\n"
   ]
  },
  {
   "cell_type": "markdown",
   "id": "bad009cd-0ece-4231-845d-59d390bed58f",
   "metadata": {},
   "source": [
    "Установим фиксированное начальное значение (\"seed\") для генераторов случайных чисел, чтобы обеспечить воспроизводимость экспериментов.\n",
    "Импортируем необходимые библиотеки"
   ]
  },
  {
   "cell_type": "code",
   "execution_count": 2,
   "id": "cf30d447-5357-4136-a45e-edb9c39fe22a",
   "metadata": {
    "execution": {
     "iopub.execute_input": "2025-06-02T23:13:35.133437Z",
     "iopub.status.busy": "2025-06-02T23:13:35.132421Z",
     "iopub.status.idle": "2025-06-02T23:13:56.510897Z",
     "shell.execute_reply": "2025-06-02T23:13:56.510113Z",
     "shell.execute_reply.started": "2025-06-02T23:13:35.133384Z"
    },
    "tags": []
   },
   "outputs": [
    {
     "name": "stderr",
     "output_type": "stream",
     "text": [
      "Seed set to 42\n"
     ]
    },
    {
     "data": {
      "text/plain": [
       "42"
      ]
     },
     "execution_count": 2,
     "metadata": {},
     "output_type": "execute_result"
    }
   ],
   "source": [
    "#Импорт необходимых библиотек \n",
    "import random\n",
    "import numpy as np\n",
    "import pandas as pd\n",
    "import lightning as L\n",
    "\n",
    "def set_seed():\n",
    "    random.seed(42)\n",
    "    np.random.seed(42)\n",
    "    \n",
    "set_seed()\n",
    "L.seed_everything(42)"
   ]
  },
  {
   "cell_type": "markdown",
   "id": "ecf20c1f-216c-485e-8fae-d87548031225",
   "metadata": {},
   "source": [
    "# Импорт датасета"
   ]
  },
  {
   "cell_type": "markdown",
   "id": "9b40ff03-4c77-4a06-9c12-82e65672464a",
   "metadata": {},
   "source": [
    "Импортируем датасет. \n",
    "Запустив этот код вы сможете скачать датасет в виде таблицы csv формата, содержащей:\n",
    "1)Признаки: Колонки 0-2246 содержат числовые данные, представляющие собой значения интенсивности сигналов ЭПР. Колонки 2247-2249 содержат числовые данные, а именно-  количество пиков в спектре , минимальное и максимальное значения магнитного поля, в диапазоне между которыми наблюдаются сигналы ЭПР\n",
    "2)Метки для 11 классов радикалов. Каждая метка- это название радикала присутствующего в спектре.  hfc в конце названия метки обозначает наличие сверхтонкого взаимодействия для данного радикала\n"
   ]
  },
  {
   "cell_type": "code",
   "execution_count": 19,
   "id": "70a98304-b3ec-47fb-b144-d84cabc11b4b",
   "metadata": {
    "execution": {
     "iopub.execute_input": "2025-06-02T21:41:45.474900Z",
     "iopub.status.busy": "2025-06-02T21:41:45.474059Z",
     "iopub.status.idle": "2025-06-02T21:41:50.783396Z",
     "shell.execute_reply": "2025-06-02T21:41:50.782608Z",
     "shell.execute_reply.started": "2025-06-02T21:41:45.474863Z"
    }
   },
   "outputs": [],
   "source": [
    "import requests\n",
    "\n",
    "file_id = '1dEEC63zAy4Y_r87uuqVa_WF17_FZVW59'\n",
    "url = f'https://drive.google.com/uc?id={file_id}&export=download'\n",
    "output = 'dataset_EPR_spectra.csv' \n",
    "\n",
    "response = requests.get(url, allow_redirects=True)\n",
    "with open(output, 'wb') as f:\n",
    "    f.write(response.content)\n"
   ]
  },
  {
   "cell_type": "markdown",
   "id": "40294467-326c-4bfd-ad90-449a54af6fea",
   "metadata": {},
   "source": [
    "Выведем первые 5 строк датасета"
   ]
  },
  {
   "cell_type": "code",
   "execution_count": 3,
   "id": "77142c6e-3623-4a66-aedb-39797b77aabe",
   "metadata": {
    "execution": {
     "iopub.execute_input": "2025-06-02T23:13:56.513226Z",
     "iopub.status.busy": "2025-06-02T23:13:56.512351Z",
     "iopub.status.idle": "2025-06-02T23:13:57.422652Z",
     "shell.execute_reply": "2025-06-02T23:13:57.421883Z",
     "shell.execute_reply.started": "2025-06-02T23:13:56.513162Z"
    },
    "tags": []
   },
   "outputs": [
    {
     "data": {
      "text/html": [
       "<div>\n",
       "<style scoped>\n",
       "    .dataframe tbody tr th:only-of-type {\n",
       "        vertical-align: middle;\n",
       "    }\n",
       "\n",
       "    .dataframe tbody tr th {\n",
       "        vertical-align: top;\n",
       "    }\n",
       "\n",
       "    .dataframe thead th {\n",
       "        text-align: right;\n",
       "    }\n",
       "</style>\n",
       "<table border=\"1\" class=\"dataframe\">\n",
       "  <thead>\n",
       "    <tr style=\"text-align: right;\">\n",
       "      <th></th>\n",
       "      <th>intensity_0</th>\n",
       "      <th>intensity_1</th>\n",
       "      <th>intensity_2</th>\n",
       "      <th>intensity_3</th>\n",
       "      <th>intensity_4</th>\n",
       "      <th>intensity_5</th>\n",
       "      <th>intensity_6</th>\n",
       "      <th>intensity_7</th>\n",
       "      <th>intensity_8</th>\n",
       "      <th>intensity_9</th>\n",
       "      <th>intensity_10</th>\n",
       "      <th>intensity_11</th>\n",
       "      <th>intensity_12</th>\n",
       "      <th>intensity_13</th>\n",
       "      <th>intensity_14</th>\n",
       "      <th>intensity_15</th>\n",
       "      <th>intensity_16</th>\n",
       "      <th>intensity_17</th>\n",
       "      <th>intensity_18</th>\n",
       "      <th>intensity_19</th>\n",
       "      <th>intensity_20</th>\n",
       "      <th>intensity_21</th>\n",
       "      <th>intensity_22</th>\n",
       "      <th>intensity_23</th>\n",
       "      <th>intensity_24</th>\n",
       "      <th>intensity_25</th>\n",
       "      <th>intensity_26</th>\n",
       "      <th>intensity_27</th>\n",
       "      <th>intensity_28</th>\n",
       "      <th>intensity_29</th>\n",
       "      <th>intensity_30</th>\n",
       "      <th>intensity_31</th>\n",
       "      <th>intensity_32</th>\n",
       "      <th>intensity_33</th>\n",
       "      <th>intensity_34</th>\n",
       "      <th>intensity_35</th>\n",
       "      <th>intensity_36</th>\n",
       "      <th>intensity_37</th>\n",
       "      <th>intensity_38</th>\n",
       "      <th>intensity_39</th>\n",
       "      <th>...</th>\n",
       "      <th>intensity_2211</th>\n",
       "      <th>intensity_2212</th>\n",
       "      <th>intensity_2213</th>\n",
       "      <th>intensity_2214</th>\n",
       "      <th>intensity_2215</th>\n",
       "      <th>intensity_2216</th>\n",
       "      <th>intensity_2217</th>\n",
       "      <th>intensity_2218</th>\n",
       "      <th>intensity_2219</th>\n",
       "      <th>intensity_2220</th>\n",
       "      <th>intensity_2221</th>\n",
       "      <th>intensity_2222</th>\n",
       "      <th>intensity_2223</th>\n",
       "      <th>intensity_2224</th>\n",
       "      <th>intensity_2225</th>\n",
       "      <th>intensity_2226</th>\n",
       "      <th>intensity_2227</th>\n",
       "      <th>intensity_2228</th>\n",
       "      <th>intensity_2229</th>\n",
       "      <th>intensity_2230</th>\n",
       "      <th>intensity_2231</th>\n",
       "      <th>intensity_2232</th>\n",
       "      <th>intensity_2233</th>\n",
       "      <th>intensity_2234</th>\n",
       "      <th>intensity_2235</th>\n",
       "      <th>intensity_2236</th>\n",
       "      <th>intensity_2237</th>\n",
       "      <th>intensity_2238</th>\n",
       "      <th>intensity_2239</th>\n",
       "      <th>intensity_2240</th>\n",
       "      <th>intensity_2241</th>\n",
       "      <th>intensity_2242</th>\n",
       "      <th>intensity_2243</th>\n",
       "      <th>intensity_2244</th>\n",
       "      <th>intensity_2245</th>\n",
       "      <th>intensity_2246</th>\n",
       "      <th>num_peaks</th>\n",
       "      <th>max_peak_field</th>\n",
       "      <th>min_peak_field</th>\n",
       "      <th>label</th>\n",
       "    </tr>\n",
       "  </thead>\n",
       "  <tbody>\n",
       "    <tr>\n",
       "      <th>0</th>\n",
       "      <td>0.0</td>\n",
       "      <td>0.0</td>\n",
       "      <td>0.0</td>\n",
       "      <td>0.0</td>\n",
       "      <td>0.0</td>\n",
       "      <td>0.000035</td>\n",
       "      <td>0.000035</td>\n",
       "      <td>0.000035</td>\n",
       "      <td>0.000035</td>\n",
       "      <td>0.000035</td>\n",
       "      <td>0.000035</td>\n",
       "      <td>0.000036</td>\n",
       "      <td>0.000036</td>\n",
       "      <td>0.000036</td>\n",
       "      <td>0.000036</td>\n",
       "      <td>0.000036</td>\n",
       "      <td>0.000036</td>\n",
       "      <td>0.000037</td>\n",
       "      <td>0.000037</td>\n",
       "      <td>0.000037</td>\n",
       "      <td>0.000037</td>\n",
       "      <td>0.000037</td>\n",
       "      <td>0.000037</td>\n",
       "      <td>0.000038</td>\n",
       "      <td>0.000038</td>\n",
       "      <td>0.000038</td>\n",
       "      <td>0.000038</td>\n",
       "      <td>0.000038</td>\n",
       "      <td>0.000039</td>\n",
       "      <td>0.000039</td>\n",
       "      <td>0.000039</td>\n",
       "      <td>0.000039</td>\n",
       "      <td>0.000039</td>\n",
       "      <td>0.000039</td>\n",
       "      <td>0.000040</td>\n",
       "      <td>0.000040</td>\n",
       "      <td>0.000040</td>\n",
       "      <td>0.000040</td>\n",
       "      <td>0.000040</td>\n",
       "      <td>0.000041</td>\n",
       "      <td>...</td>\n",
       "      <td>0.0</td>\n",
       "      <td>0.0</td>\n",
       "      <td>0.0</td>\n",
       "      <td>0.0</td>\n",
       "      <td>0.0</td>\n",
       "      <td>0.0</td>\n",
       "      <td>0.0</td>\n",
       "      <td>0.0</td>\n",
       "      <td>0.0</td>\n",
       "      <td>0.0</td>\n",
       "      <td>0.0</td>\n",
       "      <td>0.0</td>\n",
       "      <td>0.0</td>\n",
       "      <td>0.0</td>\n",
       "      <td>0.0</td>\n",
       "      <td>0.0</td>\n",
       "      <td>0.0</td>\n",
       "      <td>0.0</td>\n",
       "      <td>0.0</td>\n",
       "      <td>0.0</td>\n",
       "      <td>0.0</td>\n",
       "      <td>0.0</td>\n",
       "      <td>0.0</td>\n",
       "      <td>0.0</td>\n",
       "      <td>0.0</td>\n",
       "      <td>0.0</td>\n",
       "      <td>0.0</td>\n",
       "      <td>0.0</td>\n",
       "      <td>0.0</td>\n",
       "      <td>0.0</td>\n",
       "      <td>0.0</td>\n",
       "      <td>0.0</td>\n",
       "      <td>0.0</td>\n",
       "      <td>0.0</td>\n",
       "      <td>0.0</td>\n",
       "      <td>0.0</td>\n",
       "      <td>3.0</td>\n",
       "      <td>3418.159258</td>\n",
       "      <td>3350.160235</td>\n",
       "      <td>Si_hfc</td>\n",
       "    </tr>\n",
       "    <tr>\n",
       "      <th>1</th>\n",
       "      <td>0.0</td>\n",
       "      <td>0.0</td>\n",
       "      <td>0.0</td>\n",
       "      <td>0.0</td>\n",
       "      <td>0.0</td>\n",
       "      <td>0.000000</td>\n",
       "      <td>0.000000</td>\n",
       "      <td>0.000000</td>\n",
       "      <td>0.000000</td>\n",
       "      <td>0.000000</td>\n",
       "      <td>0.000000</td>\n",
       "      <td>0.000000</td>\n",
       "      <td>0.000000</td>\n",
       "      <td>0.000000</td>\n",
       "      <td>0.000000</td>\n",
       "      <td>0.000000</td>\n",
       "      <td>0.000000</td>\n",
       "      <td>0.000000</td>\n",
       "      <td>0.000000</td>\n",
       "      <td>0.000000</td>\n",
       "      <td>0.000000</td>\n",
       "      <td>0.000000</td>\n",
       "      <td>0.000000</td>\n",
       "      <td>0.000000</td>\n",
       "      <td>0.000000</td>\n",
       "      <td>0.000000</td>\n",
       "      <td>0.000000</td>\n",
       "      <td>0.000000</td>\n",
       "      <td>0.000000</td>\n",
       "      <td>0.000000</td>\n",
       "      <td>0.000605</td>\n",
       "      <td>0.000606</td>\n",
       "      <td>0.000608</td>\n",
       "      <td>0.000610</td>\n",
       "      <td>0.000612</td>\n",
       "      <td>0.000614</td>\n",
       "      <td>0.000615</td>\n",
       "      <td>0.000617</td>\n",
       "      <td>0.000619</td>\n",
       "      <td>0.000621</td>\n",
       "      <td>...</td>\n",
       "      <td>0.0</td>\n",
       "      <td>0.0</td>\n",
       "      <td>0.0</td>\n",
       "      <td>0.0</td>\n",
       "      <td>0.0</td>\n",
       "      <td>0.0</td>\n",
       "      <td>0.0</td>\n",
       "      <td>0.0</td>\n",
       "      <td>0.0</td>\n",
       "      <td>0.0</td>\n",
       "      <td>0.0</td>\n",
       "      <td>0.0</td>\n",
       "      <td>0.0</td>\n",
       "      <td>0.0</td>\n",
       "      <td>0.0</td>\n",
       "      <td>0.0</td>\n",
       "      <td>0.0</td>\n",
       "      <td>0.0</td>\n",
       "      <td>0.0</td>\n",
       "      <td>0.0</td>\n",
       "      <td>0.0</td>\n",
       "      <td>0.0</td>\n",
       "      <td>0.0</td>\n",
       "      <td>0.0</td>\n",
       "      <td>0.0</td>\n",
       "      <td>0.0</td>\n",
       "      <td>0.0</td>\n",
       "      <td>0.0</td>\n",
       "      <td>0.0</td>\n",
       "      <td>0.0</td>\n",
       "      <td>0.0</td>\n",
       "      <td>0.0</td>\n",
       "      <td>0.0</td>\n",
       "      <td>0.0</td>\n",
       "      <td>0.0</td>\n",
       "      <td>0.0</td>\n",
       "      <td>1.0</td>\n",
       "      <td>3381.623328</td>\n",
       "      <td>3381.623328</td>\n",
       "      <td>N</td>\n",
       "    </tr>\n",
       "    <tr>\n",
       "      <th>2</th>\n",
       "      <td>0.0</td>\n",
       "      <td>0.0</td>\n",
       "      <td>0.0</td>\n",
       "      <td>0.0</td>\n",
       "      <td>0.0</td>\n",
       "      <td>0.000000</td>\n",
       "      <td>0.000000</td>\n",
       "      <td>0.000000</td>\n",
       "      <td>0.000000</td>\n",
       "      <td>0.000000</td>\n",
       "      <td>0.000000</td>\n",
       "      <td>0.000000</td>\n",
       "      <td>0.000000</td>\n",
       "      <td>0.000000</td>\n",
       "      <td>0.000000</td>\n",
       "      <td>0.000000</td>\n",
       "      <td>0.000000</td>\n",
       "      <td>0.000000</td>\n",
       "      <td>0.000000</td>\n",
       "      <td>0.000000</td>\n",
       "      <td>0.000000</td>\n",
       "      <td>0.000000</td>\n",
       "      <td>0.000000</td>\n",
       "      <td>0.000000</td>\n",
       "      <td>0.000000</td>\n",
       "      <td>0.000000</td>\n",
       "      <td>0.000000</td>\n",
       "      <td>0.000000</td>\n",
       "      <td>0.000000</td>\n",
       "      <td>0.000000</td>\n",
       "      <td>0.000000</td>\n",
       "      <td>0.000000</td>\n",
       "      <td>0.000000</td>\n",
       "      <td>0.000000</td>\n",
       "      <td>0.000000</td>\n",
       "      <td>0.000000</td>\n",
       "      <td>0.000572</td>\n",
       "      <td>0.000574</td>\n",
       "      <td>0.000575</td>\n",
       "      <td>0.000577</td>\n",
       "      <td>...</td>\n",
       "      <td>0.0</td>\n",
       "      <td>0.0</td>\n",
       "      <td>0.0</td>\n",
       "      <td>0.0</td>\n",
       "      <td>0.0</td>\n",
       "      <td>0.0</td>\n",
       "      <td>0.0</td>\n",
       "      <td>0.0</td>\n",
       "      <td>0.0</td>\n",
       "      <td>0.0</td>\n",
       "      <td>0.0</td>\n",
       "      <td>0.0</td>\n",
       "      <td>0.0</td>\n",
       "      <td>0.0</td>\n",
       "      <td>0.0</td>\n",
       "      <td>0.0</td>\n",
       "      <td>0.0</td>\n",
       "      <td>0.0</td>\n",
       "      <td>0.0</td>\n",
       "      <td>0.0</td>\n",
       "      <td>0.0</td>\n",
       "      <td>0.0</td>\n",
       "      <td>0.0</td>\n",
       "      <td>0.0</td>\n",
       "      <td>0.0</td>\n",
       "      <td>0.0</td>\n",
       "      <td>0.0</td>\n",
       "      <td>0.0</td>\n",
       "      <td>0.0</td>\n",
       "      <td>0.0</td>\n",
       "      <td>0.0</td>\n",
       "      <td>0.0</td>\n",
       "      <td>0.0</td>\n",
       "      <td>0.0</td>\n",
       "      <td>0.0</td>\n",
       "      <td>0.0</td>\n",
       "      <td>1.0</td>\n",
       "      <td>3388.385824</td>\n",
       "      <td>3388.385824</td>\n",
       "      <td>O_vacancy</td>\n",
       "    </tr>\n",
       "    <tr>\n",
       "      <th>3</th>\n",
       "      <td>0.0</td>\n",
       "      <td>0.0</td>\n",
       "      <td>0.0</td>\n",
       "      <td>0.0</td>\n",
       "      <td>0.0</td>\n",
       "      <td>0.000000</td>\n",
       "      <td>0.000000</td>\n",
       "      <td>0.000000</td>\n",
       "      <td>0.000000</td>\n",
       "      <td>0.000000</td>\n",
       "      <td>0.000000</td>\n",
       "      <td>0.000000</td>\n",
       "      <td>0.000000</td>\n",
       "      <td>0.000000</td>\n",
       "      <td>0.000000</td>\n",
       "      <td>0.000000</td>\n",
       "      <td>0.000000</td>\n",
       "      <td>0.000000</td>\n",
       "      <td>0.000000</td>\n",
       "      <td>0.000000</td>\n",
       "      <td>0.000000</td>\n",
       "      <td>0.000000</td>\n",
       "      <td>0.000000</td>\n",
       "      <td>0.000000</td>\n",
       "      <td>0.000000</td>\n",
       "      <td>0.000000</td>\n",
       "      <td>0.000000</td>\n",
       "      <td>0.000000</td>\n",
       "      <td>0.000000</td>\n",
       "      <td>0.000000</td>\n",
       "      <td>0.000000</td>\n",
       "      <td>0.000588</td>\n",
       "      <td>0.000590</td>\n",
       "      <td>0.000592</td>\n",
       "      <td>0.000593</td>\n",
       "      <td>0.000595</td>\n",
       "      <td>0.000597</td>\n",
       "      <td>0.000599</td>\n",
       "      <td>0.000600</td>\n",
       "      <td>0.000602</td>\n",
       "      <td>...</td>\n",
       "      <td>0.0</td>\n",
       "      <td>0.0</td>\n",
       "      <td>0.0</td>\n",
       "      <td>0.0</td>\n",
       "      <td>0.0</td>\n",
       "      <td>0.0</td>\n",
       "      <td>0.0</td>\n",
       "      <td>0.0</td>\n",
       "      <td>0.0</td>\n",
       "      <td>0.0</td>\n",
       "      <td>0.0</td>\n",
       "      <td>0.0</td>\n",
       "      <td>0.0</td>\n",
       "      <td>0.0</td>\n",
       "      <td>0.0</td>\n",
       "      <td>0.0</td>\n",
       "      <td>0.0</td>\n",
       "      <td>0.0</td>\n",
       "      <td>0.0</td>\n",
       "      <td>0.0</td>\n",
       "      <td>0.0</td>\n",
       "      <td>0.0</td>\n",
       "      <td>0.0</td>\n",
       "      <td>0.0</td>\n",
       "      <td>0.0</td>\n",
       "      <td>0.0</td>\n",
       "      <td>0.0</td>\n",
       "      <td>0.0</td>\n",
       "      <td>0.0</td>\n",
       "      <td>0.0</td>\n",
       "      <td>0.0</td>\n",
       "      <td>0.0</td>\n",
       "      <td>0.0</td>\n",
       "      <td>0.0</td>\n",
       "      <td>0.0</td>\n",
       "      <td>0.0</td>\n",
       "      <td>1.0</td>\n",
       "      <td>3383.311422</td>\n",
       "      <td>3383.311422</td>\n",
       "      <td>Si</td>\n",
       "    </tr>\n",
       "    <tr>\n",
       "      <th>4</th>\n",
       "      <td>0.0</td>\n",
       "      <td>0.0</td>\n",
       "      <td>0.0</td>\n",
       "      <td>0.0</td>\n",
       "      <td>0.0</td>\n",
       "      <td>0.000000</td>\n",
       "      <td>0.000000</td>\n",
       "      <td>0.000000</td>\n",
       "      <td>0.000000</td>\n",
       "      <td>0.000000</td>\n",
       "      <td>0.000000</td>\n",
       "      <td>0.000000</td>\n",
       "      <td>0.000000</td>\n",
       "      <td>0.000000</td>\n",
       "      <td>0.000000</td>\n",
       "      <td>0.000000</td>\n",
       "      <td>0.000000</td>\n",
       "      <td>0.000000</td>\n",
       "      <td>0.000000</td>\n",
       "      <td>0.000000</td>\n",
       "      <td>0.000000</td>\n",
       "      <td>0.000000</td>\n",
       "      <td>0.000000</td>\n",
       "      <td>0.000000</td>\n",
       "      <td>0.000000</td>\n",
       "      <td>0.000000</td>\n",
       "      <td>0.000000</td>\n",
       "      <td>0.000000</td>\n",
       "      <td>0.000000</td>\n",
       "      <td>0.000000</td>\n",
       "      <td>0.000000</td>\n",
       "      <td>0.000000</td>\n",
       "      <td>0.000000</td>\n",
       "      <td>0.000000</td>\n",
       "      <td>0.000000</td>\n",
       "      <td>0.000000</td>\n",
       "      <td>0.000000</td>\n",
       "      <td>0.000000</td>\n",
       "      <td>0.000000</td>\n",
       "      <td>0.000000</td>\n",
       "      <td>...</td>\n",
       "      <td>0.0</td>\n",
       "      <td>0.0</td>\n",
       "      <td>0.0</td>\n",
       "      <td>0.0</td>\n",
       "      <td>0.0</td>\n",
       "      <td>0.0</td>\n",
       "      <td>0.0</td>\n",
       "      <td>0.0</td>\n",
       "      <td>0.0</td>\n",
       "      <td>0.0</td>\n",
       "      <td>0.0</td>\n",
       "      <td>0.0</td>\n",
       "      <td>0.0</td>\n",
       "      <td>0.0</td>\n",
       "      <td>0.0</td>\n",
       "      <td>0.0</td>\n",
       "      <td>0.0</td>\n",
       "      <td>0.0</td>\n",
       "      <td>0.0</td>\n",
       "      <td>0.0</td>\n",
       "      <td>0.0</td>\n",
       "      <td>0.0</td>\n",
       "      <td>0.0</td>\n",
       "      <td>0.0</td>\n",
       "      <td>0.0</td>\n",
       "      <td>0.0</td>\n",
       "      <td>0.0</td>\n",
       "      <td>0.0</td>\n",
       "      <td>0.0</td>\n",
       "      <td>0.0</td>\n",
       "      <td>0.0</td>\n",
       "      <td>0.0</td>\n",
       "      <td>0.0</td>\n",
       "      <td>0.0</td>\n",
       "      <td>0.0</td>\n",
       "      <td>0.0</td>\n",
       "      <td>3.0</td>\n",
       "      <td>3441.968191</td>\n",
       "      <td>3423.180915</td>\n",
       "      <td>Ti</td>\n",
       "    </tr>\n",
       "  </tbody>\n",
       "</table>\n",
       "<p>5 rows × 2251 columns</p>\n",
       "</div>"
      ],
      "text/plain": [
       "   intensity_0  intensity_1  ...  min_peak_field      label\n",
       "0          0.0          0.0  ...     3350.160235     Si_hfc\n",
       "1          0.0          0.0  ...     3381.623328          N\n",
       "2          0.0          0.0  ...     3388.385824  O_vacancy\n",
       "3          0.0          0.0  ...     3383.311422         Si\n",
       "4          0.0          0.0  ...     3423.180915         Ti\n",
       "\n",
       "[5 rows x 2251 columns]"
      ]
     },
     "execution_count": 3,
     "metadata": {},
     "output_type": "execute_result"
    }
   ],
   "source": [
    "from sklearn.utils import shuffle\n",
    "df = pd.read_csv(\"dataset_EPR_spectra.csv\")\n",
    "df = shuffle(df, random_state=42).reset_index(drop=True)\n",
    "df.head()\n"
   ]
  },
  {
   "cell_type": "markdown",
   "id": "8f69aee0-cfa6-4249-b3f1-0109ecc8a983",
   "metadata": {},
   "source": [
    "Выполним  преобразование строковых меток классов в числовые индексы и результат сохраним в новый столбец class_idx. Построим словарь соответствий: {class_idx: class_name}"
   ]
  },
  {
   "cell_type": "code",
   "execution_count": 4,
   "id": "35396686-dd1f-4310-96af-f3b41df7ee16",
   "metadata": {
    "execution": {
     "iopub.execute_input": "2025-06-02T23:13:57.427664Z",
     "iopub.status.busy": "2025-06-02T23:13:57.423589Z",
     "iopub.status.idle": "2025-06-02T23:13:57.488938Z",
     "shell.execute_reply": "2025-06-02T23:13:57.488184Z",
     "shell.execute_reply.started": "2025-06-02T23:13:57.427627Z"
    },
    "tags": []
   },
   "outputs": [
    {
     "name": "stdout",
     "output_type": "stream",
     "text": [
      "{0: 'C', 1: 'C_hfc', 2: 'Mn', 3: 'Mn_hfc', 4: 'N', 5: 'N_hfc', 6: 'O_vac_hfc', 7: 'O_vacancy', 8: 'Si', 9: 'Si_hfc', 10: 'Ti'}\n"
     ]
    }
   ],
   "source": [
    "df[\"class_idx\"] = pd.get_dummies(df[\"label\"]).apply(\n",
    "    lambda row: np.argmax(row), axis=1\n",
    ")\n",
    "class_idx_to_class_name = {\n",
    "    class_idx: class_name\n",
    "    for class_idx, class_name in enumerate(pd.get_dummies(df[\"label\"]).columns)\n",
    "}\n",
    "print(class_idx_to_class_name)\n"
   ]
  },
  {
   "cell_type": "code",
   "execution_count": 5,
   "id": "91146e77-2ffb-48c4-bf62-777821c1b029",
   "metadata": {
    "execution": {
     "iopub.execute_input": "2025-06-02T23:13:57.493730Z",
     "iopub.status.busy": "2025-06-02T23:13:57.493314Z",
     "iopub.status.idle": "2025-06-02T23:13:57.521909Z",
     "shell.execute_reply": "2025-06-02T23:13:57.521145Z",
     "shell.execute_reply.started": "2025-06-02T23:13:57.493696Z"
    },
    "tags": []
   },
   "outputs": [],
   "source": [
    "x = df.iloc[:, :-2]   # Признаки\n",
    "y = df[\"class_idx\"].values # Метки"
   ]
  },
  {
   "cell_type": "markdown",
   "id": "29978293-19ae-4963-89fc-c601cb552759",
   "metadata": {},
   "source": [
    "Разделим датасет в соотношении 8:1:1 на train, validation и test "
   ]
  },
  {
   "cell_type": "code",
   "execution_count": 6,
   "id": "f2bcdbc6-1183-4763-81fd-6d12db0c592d",
   "metadata": {
    "execution": {
     "iopub.execute_input": "2025-06-02T23:13:57.528036Z",
     "iopub.status.busy": "2025-06-02T23:13:57.522862Z",
     "iopub.status.idle": "2025-06-02T23:13:57.581984Z",
     "shell.execute_reply": "2025-06-02T23:13:57.581176Z",
     "shell.execute_reply.started": "2025-06-02T23:13:57.527995Z"
    },
    "tags": []
   },
   "outputs": [],
   "source": [
    "from sklearn.model_selection import train_test_split\n",
    "\n",
    "x_train, x_temp, y_train, y_temp,  = train_test_split(\n",
    "    x, y, test_size=0.2, stratify=y, random_state=42\n",
    ")\n",
    "\n",
    "x_val, x_test, y_val, y_test = train_test_split(\n",
    "    x_temp, y_temp, test_size=0.5, stratify=y_temp, random_state=42\n",
    ")"
   ]
  },
  {
   "cell_type": "markdown",
   "id": "9a1c1ed4-05f8-40d1-b355-4feba139d0a1",
   "metadata": {},
   "source": [
    "Преобразуем данные x_train, x_val, x_test (признаки) и y_train, y_val, y_test (метки) в PyTorch тензоры для обучения нейронных сетей.\n",
    "Создадим датасеты PyTorch."
   ]
  },
  {
   "cell_type": "code",
   "execution_count": 7,
   "id": "5ad680be-28fc-4ac9-b9c0-76f39305f2da",
   "metadata": {
    "execution": {
     "iopub.execute_input": "2025-06-02T23:13:57.584358Z",
     "iopub.status.busy": "2025-06-02T23:13:57.582884Z",
     "iopub.status.idle": "2025-06-02T23:13:58.393122Z",
     "shell.execute_reply": "2025-06-02T23:13:58.392420Z",
     "shell.execute_reply.started": "2025-06-02T23:13:57.584301Z"
    },
    "tags": []
   },
   "outputs": [],
   "source": [
    "import lightning as L\n",
    "import timm\n",
    "import torch\n",
    "import torch.nn as nn\n",
    "import torchmetrics\n",
    "from torch.utils.data import DataLoader, Dataset, TensorDataset\n",
    "from torchsummary import summary\n",
    "from torchvision import datasets, models\n",
    "from torchvision.models import resnet18\n",
    "from torchvision.transforms import v2\n",
    "\n",
    "x_train_tensor = torch.tensor(x_train.to_numpy(), dtype=torch.float32)\n",
    "y_train_tensor = torch.tensor(y_train, dtype=torch.long)\n",
    "\n",
    "x_val_tensor = torch.tensor(x_val.to_numpy(), dtype=torch.float32)\n",
    "y_val_tensor = torch.tensor(y_val, dtype=torch.long)\n",
    "\n",
    "x_test_tensor = torch.tensor(x_test.to_numpy(), dtype=torch.float32)\n",
    "y_test_tensor = torch.tensor(y_test,dtype=torch.long)\n",
    "\n",
    "x_train_tensor = x_train_tensor.unsqueeze(1)\n",
    "x_val_tensor = x_val_tensor.unsqueeze(1)\n",
    "x_test_tensor = x_test_tensor.unsqueeze(1)\n",
    "\n",
    "train_dataset = TensorDataset(x_train_tensor, y_train_tensor)\n",
    "val_dataset = TensorDataset(x_val_tensor, y_val_tensor)\n",
    "test_dataset = TensorDataset(x_test_tensor, y_test_tensor)"
   ]
  },
  {
   "cell_type": "markdown",
   "id": "f4ca7519-c969-4de8-ac49-d1034d77572a",
   "metadata": {},
   "source": [
    "Создадим взвешенный сэмплер (WeightedRandomSampler) для PyTorch, чтобы решить проблему дисбаланса классов при обучении модели"
   ]
  },
  {
   "cell_type": "code",
   "execution_count": 8,
   "id": "4eba6c40-8698-43b6-86da-2736a3b54519",
   "metadata": {
    "execution": {
     "iopub.execute_input": "2025-06-02T23:13:58.398336Z",
     "iopub.status.busy": "2025-06-02T23:13:58.397108Z",
     "iopub.status.idle": "2025-06-02T23:13:58.447758Z",
     "shell.execute_reply": "2025-06-02T23:13:58.446937Z",
     "shell.execute_reply.started": "2025-06-02T23:13:58.398295Z"
    },
    "tags": []
   },
   "outputs": [
    {
     "name": "stdout",
     "output_type": "stream",
     "text": [
      "tensor([1.0000, 1.0549, 1.0000, 1.0000, 1.0000, 1.0000, 1.0549, 1.0000, 1.0667,\n",
      "        1.0000, 1.0213])\n"
     ]
    }
   ],
   "source": [
    "import numpy as np\n",
    "from collections import Counter\n",
    "from torch.utils.data import WeightedRandomSampler\n",
    "\n",
    "_, classes_counts = torch.unique(y_train_tensor, return_counts=True)\n",
    "\n",
    "weights_for_classes = classes_counts.max() / classes_counts\n",
    "print(weights_for_classes)\n",
    "weight_for_every_sample = []  # Every sample must have a weight\n",
    "for label in y_train_tensor:\n",
    "    weight_for_every_sample.append(weights_for_classes[label].item())\n",
    "\n",
    "sampler = WeightedRandomSampler(torch.tensor(weight_for_every_sample), len(train_dataset))"
   ]
  },
  {
   "cell_type": "markdown",
   "id": "e6cfa4ae-9929-4ea0-8af2-475040d5be68",
   "metadata": {},
   "source": [
    "Создадим DataLoader для обучения, валидации и тестирования модели в PyTorch"
   ]
  },
  {
   "cell_type": "code",
   "execution_count": 9,
   "id": "9955d97b-0954-4571-b07a-494be48c6ea5",
   "metadata": {
    "execution": {
     "iopub.execute_input": "2025-06-02T23:14:02.106856Z",
     "iopub.status.busy": "2025-06-02T23:14:02.106016Z",
     "iopub.status.idle": "2025-06-02T23:14:02.150170Z",
     "shell.execute_reply": "2025-06-02T23:14:02.149323Z",
     "shell.execute_reply.started": "2025-06-02T23:14:02.106817Z"
    },
    "tags": []
   },
   "outputs": [],
   "source": [
    "batch_size=64\n",
    "train_loader = DataLoader(train_dataset, batch_size=batch_size,sampler=sampler, num_workers=4)\n",
    "val_loader = DataLoader(val_dataset, batch_size=batch_size, shuffle=False,num_workers=4)\n",
    "test_loader = DataLoader(test_dataset, batch_size=batch_size, shuffle=False,num_workers=4)\n"
   ]
  },
  {
   "cell_type": "markdown",
   "id": "ea4e479f-585c-40fd-bd12-adedbb68c942",
   "metadata": {
    "execution": {
     "iopub.execute_input": "2025-06-02T20:54:50.384944Z",
     "iopub.status.busy": "2025-06-02T20:54:50.384084Z",
     "iopub.status.idle": "2025-06-02T20:54:50.413021Z",
     "shell.execute_reply": "2025-06-02T20:54:50.411930Z",
     "shell.execute_reply.started": "2025-06-02T20:54:50.384901Z"
    }
   },
   "source": [
    "Визуализируем спектры, составляющие датасет. Для примера выведем первые 5 спектров из тренировочного датасета:"
   ]
  },
  {
   "cell_type": "code",
   "execution_count": 27,
   "id": "941ea614-4042-443c-bcd2-1d6e459945a7",
   "metadata": {
    "execution": {
     "iopub.execute_input": "2025-06-02T21:41:51.646115Z",
     "iopub.status.busy": "2025-06-02T21:41:51.645175Z",
     "iopub.status.idle": "2025-06-02T21:41:52.632239Z",
     "shell.execute_reply": "2025-06-02T21:41:52.631428Z",
     "shell.execute_reply.started": "2025-06-02T21:41:51.646065Z"
    }
   },
   "outputs": [
    {
     "data": {
      "image/png": "[encoded data removed]",
      "text/plain": [
       "<Figure size 1000x400 with 1 Axes>"
      ]
     },
     "metadata": {},
     "output_type": "display_data"
    },
    {
     "data": {
      "image/png": "[encoded data removed]",
      "text/plain": [
       "<Figure size 1000x400 with 1 Axes>"
      ]
     },
     "metadata": {},
     "output_type": "display_data"
    },
    {
     "data": {
      "image/png": "[encoded data removed]",
      "text/plain": [
       "<Figure size 1000x400 with 1 Axes>"
      ]
     },
     "metadata": {},
     "output_type": "display_data"
    },
    {
     "data": {
      "image/png": "[encoded data removed]",
      "text/plain": [
       "<Figure size 1000x400 with 1 Axes>"
      ]
     },
     "metadata": {},
     "output_type": "display_data"
    },
    {
     "data": {
      "image/png": "[encoded data removed]",
      "text/plain": [
       "<Figure size 1000x400 with 1 Axes>"
      ]
     },
     "metadata": {},
     "output_type": "display_data"
    }
   ],
   "source": [
    "import numpy as np\n",
    "import matplotlib.pyplot as plt\n",
    "\n",
    "target_class = 4 # метка класса\n",
    "N = 5  # сколько графиков\n",
    "count = 0 # счетчик\n",
    "intensity_columns = [col for col in x_train.columns if col.startswith('intensity_')]\n",
    "\n",
    "for i in range(len(y_train)):\n",
    "    if y_train[i] == target_class:\n",
    "        intensity = x_train.iloc[i][intensity_columns].values.astype(float)\n",
    "\n",
    "        plt.figure(figsize=(10, 4))\n",
    "        plt.plot(range(len(intensity)), intensity)\n",
    "        plt.title(f\"Класс {target_class}, спектр #{count}\")\n",
    "        plt.xlabel(\"Точка измерения\")\n",
    "        plt.ylabel(\"Интенсивность\")\n",
    "        plt.grid(True)\n",
    "        plt.show()\n",
    "\n",
    "        count += 1\n",
    "        if count >= N:\n",
    "            break"
   ]
  },
  {
   "cell_type": "markdown",
   "id": "3bf0dbc8-6801-4909-93ea-0bcec5fbf1cb",
   "metadata": {},
   "source": [
    "# Модели классического машинного обучения"
   ]
  },
  {
   "cell_type": "code",
   "execution_count": 17,
   "id": "1bca0ada-11fd-49c5-812a-17263a2efbba",
   "metadata": {
    "execution": {
     "iopub.execute_input": "2025-06-02T23:19:51.832948Z",
     "iopub.status.busy": "2025-06-02T23:19:51.832417Z",
     "iopub.status.idle": "2025-06-02T23:20:03.035355Z",
     "shell.execute_reply": "2025-06-02T23:20:03.034605Z",
     "shell.execute_reply.started": "2025-06-02T23:19:51.832905Z"
    },
    "tags": []
   },
   "outputs": [],
   "source": [
    "#импорт необходмых библиотек\n",
    "import lightgbm\n",
    "import seaborn as sns\n",
    "import sklearn.datasets\n",
    "\n",
    "from sklearn.svm import SVC\n",
    "from sklearn.metrics import matthews_corrcoef\n",
    "from sklearn.tree import DecisionTreeClassifier\n",
    "from sklearn.model_selection import train_test_split\n",
    "from sklearn.ensemble import RandomForestClassifier, BaggingClassifier\n",
    "from sklearn.metrics import f1_score\n",
    "from sklearn.metrics import (\n",
    "    PrecisionRecallDisplay,\n",
    "    accuracy_score,\n",
    "    classification_report,\n",
    "    precision_recall_curve,\n",
    ")\n",
    "from sklearn.svm import SVC, LinearSVC\n",
    "import xgboost\n",
    "import catboost\n",
    "from catboost import CatBoostClassifier\n",
    "from xgboost import XGBClassifier\n"
   ]
  },
  {
   "cell_type": "markdown",
   "id": "21a2d713-0fb0-4f3a-a138-cd855bd6a25d",
   "metadata": {},
   "source": [
    "В данном разделе предствлен код для обучения и вывод метрик через classification_report для следующих моделей классического машинного обучения: SVM, RandomForest, LGBM, CatBoost, XGBoost"
   ]
  },
  {
   "cell_type": "markdown",
   "id": "5768766e-f6c9-4e99-943d-dd4a94c8d714",
   "metadata": {},
   "source": [
    "## LBGM"
   ]
  },
  {
   "cell_type": "code",
   "execution_count": 29,
   "id": "f2703276-9436-47c9-885c-b6156022c740",
   "metadata": {
    "execution": {
     "iopub.execute_input": "2025-06-02T21:41:56.350099Z",
     "iopub.status.busy": "2025-06-02T21:41:56.348779Z",
     "iopub.status.idle": "2025-06-02T21:43:02.894210Z",
     "shell.execute_reply": "2025-06-02T21:43:02.893431Z",
     "shell.execute_reply.started": "2025-06-02T21:41:56.350061Z"
    }
   },
   "outputs": [],
   "source": [
    "model = lightgbm.LGBMClassifier(verbose=-1)\n",
    "model.fit(x_train, y_train, sample_weight=weight_for_every_sample)\n",
    "y_test_pred = model.predict(x_test)\n",
    "y_train_pred = model.predict(x_train)\n",
    "\n",
    "report=classification_report(y_test, y_test_pred)"
   ]
  },
  {
   "cell_type": "code",
   "execution_count": 30,
   "id": "42c5de1f-21b1-4beb-bc4d-285fc0addfc1",
   "metadata": {
    "execution": {
     "iopub.execute_input": "2025-06-02T21:43:02.896429Z",
     "iopub.status.busy": "2025-06-02T21:43:02.895159Z",
     "iopub.status.idle": "2025-06-02T21:43:02.941661Z",
     "shell.execute_reply": "2025-06-02T21:43:02.940757Z",
     "shell.execute_reply.started": "2025-06-02T21:43:02.896389Z"
    }
   },
   "outputs": [
    {
     "name": "stdout",
     "output_type": "stream",
     "text": [
      "LGBM :\n",
      "               precision    recall  f1-score   support\n",
      "\n",
      "           0       1.00      1.00      1.00        12\n",
      "           1       0.54      0.58      0.56        12\n",
      "           2       0.92      1.00      0.96        12\n",
      "           3       1.00      1.00      1.00        12\n",
      "           4       1.00      1.00      1.00        12\n",
      "           5       0.89      0.67      0.76        12\n",
      "           6       0.70      0.64      0.67        11\n",
      "           7       1.00      1.00      1.00        12\n",
      "           8       0.92      1.00      0.96        11\n",
      "           9       0.69      0.75      0.72        12\n",
      "          10       1.00      1.00      1.00        12\n",
      "\n",
      "    accuracy                           0.88       130\n",
      "   macro avg       0.88      0.88      0.88       130\n",
      "weighted avg       0.88      0.88      0.88       130\n",
      "\n"
     ]
    }
   ],
   "source": [
    "report=classification_report(y_test, y_test_pred)\n",
    "print(f\"LGBM :\\n {report}\")"
   ]
  },
  {
   "cell_type": "markdown",
   "id": "642c0e12-09b2-4548-8267-97e167590a25",
   "metadata": {},
   "source": [
    "## CatBoost и XGBoost"
   ]
  },
  {
   "cell_type": "code",
   "execution_count": 31,
   "id": "9e51d0d2-de62-42e4-a28f-3490f185cdda",
   "metadata": {
    "execution": {
     "iopub.execute_input": "2025-06-02T21:43:02.943394Z",
     "iopub.status.busy": "2025-06-02T21:43:02.942798Z",
     "iopub.status.idle": "2025-06-02T21:58:36.075332Z",
     "shell.execute_reply": "2025-06-02T21:58:36.074463Z",
     "shell.execute_reply.started": "2025-06-02T21:43:02.943356Z"
    }
   },
   "outputs": [
    {
     "name": "stderr",
     "output_type": "stream",
     "text": [
      "/usr/local/lib/python3.10/dist-packages/xgboost/sklearn.py:1395: UserWarning: `use_label_encoder` is deprecated in 1.7.0.\n",
      "  warnings.warn(\"`use_label_encoder` is deprecated in 1.7.0.\")\n"
     ]
    },
    {
     "name": "stdout",
     "output_type": "stream",
     "text": [
      "CatBoost Report:\n",
      "               precision    recall  f1-score   support\n",
      "\n",
      "           0       1.00      1.00      1.00        12\n",
      "           1       0.50      0.58      0.54        12\n",
      "           2       1.00      1.00      1.00        12\n",
      "           3       1.00      1.00      1.00        12\n",
      "           4       1.00      1.00      1.00        12\n",
      "           5       0.89      0.67      0.76        12\n",
      "           6       0.75      0.55      0.63        11\n",
      "           7       1.00      1.00      1.00        12\n",
      "           8       0.92      1.00      0.96        11\n",
      "           9       0.60      0.75      0.67        12\n",
      "          10       1.00      1.00      1.00        12\n",
      "\n",
      "    accuracy                           0.87       130\n",
      "   macro avg       0.88      0.87      0.87       130\n",
      "weighted avg       0.88      0.87      0.87       130\n",
      "\n",
      "XGBoost Report:\n",
      "               precision    recall  f1-score   support\n",
      "\n",
      "           0       1.00      1.00      1.00        12\n",
      "           1       0.62      0.67      0.64        12\n",
      "           2       0.92      1.00      0.96        12\n",
      "           3       1.00      1.00      1.00        12\n",
      "           4       1.00      1.00      1.00        12\n",
      "           5       0.90      0.75      0.82        12\n",
      "           6       0.78      0.64      0.70        11\n",
      "           7       1.00      1.00      1.00        12\n",
      "           8       0.92      1.00      0.96        11\n",
      "           9       0.69      0.75      0.72        12\n",
      "          10       1.00      1.00      1.00        12\n",
      "\n",
      "    accuracy                           0.89       130\n",
      "   macro avg       0.89      0.89      0.89       130\n",
      "weighted avg       0.89      0.89      0.89       130\n",
      "\n"
     ]
    }
   ],
   "source": [
    "# Обучение CatBoost\n",
    "cat_model = CatBoostClassifier(\n",
    "    iterations=500,\n",
    "    learning_rate=0.1,\n",
    "    depth=6,\n",
    "    verbose=0,  # отключает вывод\n",
    "    random_state=42\n",
    ")\n",
    "cat_model.fit(x_train, y_train)\n",
    "cat_preds = cat_model.predict(x_test)\n",
    "\n",
    "# Обучение XGBoost\n",
    "xgb_model = XGBClassifier(\n",
    "    n_estimators=500,\n",
    "    learning_rate=0.1,\n",
    "    max_depth=6,\n",
    "    use_label_encoder=False,\n",
    "    eval_metric='logloss',\n",
    "    random_state=42\n",
    ")\n",
    "xgb_model.fit(x_train, y_train)\n",
    "xgb_preds = xgb_model.predict(x_test)\n",
    "\n",
    "print(\"CatBoost Report:\\n\", classification_report(y_test, cat_preds))\n",
    "print(\"XGBoost Report:\\n\", classification_report(y_test, xgb_preds))"
   ]
  },
  {
   "cell_type": "markdown",
   "id": "27f1d6cb-6d6b-4a17-bb9f-14bca36ccb04",
   "metadata": {},
   "source": [
    "## SVM"
   ]
  },
  {
   "cell_type": "code",
   "execution_count": 32,
   "id": "abd5efdf-33e1-4124-b982-0b8100725f2d",
   "metadata": {
    "execution": {
     "iopub.execute_input": "2025-06-02T21:58:36.077567Z",
     "iopub.status.busy": "2025-06-02T21:58:36.076429Z",
     "iopub.status.idle": "2025-06-02T21:58:59.305106Z",
     "shell.execute_reply": "2025-06-02T21:58:59.304166Z",
     "shell.execute_reply.started": "2025-06-02T21:58:36.077526Z"
    }
   },
   "outputs": [
    {
     "name": "stdout",
     "output_type": "stream",
     "text": [
      "SVM с линейным ядром:\n",
      "               precision    recall  f1-score   support\n",
      "\n",
      "           0       0.67      0.33      0.44        12\n",
      "           1       0.43      0.25      0.32        12\n",
      "           2       1.00      1.00      1.00        12\n",
      "           3       1.00      0.42      0.59        12\n",
      "           4       0.45      0.75      0.56        12\n",
      "           5       0.44      0.58      0.50        12\n",
      "           6       0.45      0.45      0.45        11\n",
      "           7       0.67      1.00      0.80        12\n",
      "           8       0.17      0.09      0.12        11\n",
      "           9       0.41      0.58      0.48        12\n",
      "          10       1.00      1.00      1.00        12\n",
      "\n",
      "    accuracy                           0.59       130\n",
      "   macro avg       0.61      0.59      0.57       130\n",
      "weighted avg       0.61      0.59      0.57       130\n",
      "\n"
     ]
    }
   ],
   "source": [
    "# модель SVM с линейным ядром\n",
    "model =LinearSVC(C=1.0, dual=False, max_iter=5000)\n",
    "\n",
    "# Обучаем с весами weight_for_every_sample\n",
    "model.fit(x_train, y_train, sample_weight=weight_for_every_sample)\n",
    "\n",
    "y_test_pred = model.predict(x_test)\n",
    "\n",
    "report=classification_report(y_test, y_test_pred)\n",
    "print(f\"SVM с линейным ядром:\\n {report}\")"
   ]
  },
  {
   "cell_type": "code",
   "execution_count": 33,
   "id": "1c6b6532-96e9-48e3-a07f-b297d5888549",
   "metadata": {
    "execution": {
     "iopub.execute_input": "2025-06-02T21:58:59.318312Z",
     "iopub.status.busy": "2025-06-02T21:58:59.305983Z",
     "iopub.status.idle": "2025-06-02T21:59:00.757970Z",
     "shell.execute_reply": "2025-06-02T21:59:00.757064Z",
     "shell.execute_reply.started": "2025-06-02T21:58:59.318268Z"
    }
   },
   "outputs": [
    {
     "name": "stdout",
     "output_type": "stream",
     "text": [
      "SVM с poly ядром:\n",
      "               precision    recall  f1-score   support\n",
      "\n",
      "           0       1.00      0.17      0.29        12\n",
      "           1       0.00      0.00      0.00        12\n",
      "           2       1.00      1.00      1.00        12\n",
      "           3       0.00      0.00      0.00        12\n",
      "           4       0.44      0.33      0.38        12\n",
      "           5       0.24      0.50      0.32        12\n",
      "           6       0.00      0.00      0.00        11\n",
      "           7       0.29      1.00      0.45        12\n",
      "           8       0.00      0.00      0.00        11\n",
      "           9       0.24      0.83      0.38        12\n",
      "          10       0.00      0.00      0.00        12\n",
      "\n",
      "    accuracy                           0.35       130\n",
      "   macro avg       0.29      0.35      0.26       130\n",
      "weighted avg       0.30      0.35      0.26       130\n",
      "\n"
     ]
    },
    {
     "name": "stderr",
     "output_type": "stream",
     "text": [
      "/usr/local/lib/python3.10/dist-packages/sklearn/metrics/_classification.py:1344: UndefinedMetricWarning: Precision and F-score are ill-defined and being set to 0.0 in labels with no predicted samples. Use `zero_division` parameter to control this behavior.\n",
      "  _warn_prf(average, modifier, msg_start, len(result))\n",
      "/usr/local/lib/python3.10/dist-packages/sklearn/metrics/_classification.py:1344: UndefinedMetricWarning: Precision and F-score are ill-defined and being set to 0.0 in labels with no predicted samples. Use `zero_division` parameter to control this behavior.\n",
      "  _warn_prf(average, modifier, msg_start, len(result))\n",
      "/usr/local/lib/python3.10/dist-packages/sklearn/metrics/_classification.py:1344: UndefinedMetricWarning: Precision and F-score are ill-defined and being set to 0.0 in labels with no predicted samples. Use `zero_division` parameter to control this behavior.\n",
      "  _warn_prf(average, modifier, msg_start, len(result))\n"
     ]
    }
   ],
   "source": [
    "#модель SVM с полиномиальным ядром\n",
    "model = SVC(kernel='poly',degree=3, C=1.0, coef0=1, gamma='scale', probability=False)\n",
    "\n",
    "model.fit(x_train, y_train)\n",
    "\n",
    "y_test_pred = model.predict(x_test)\n",
    "\n",
    "report = classification_report(y_test, y_test_pred)\n",
    "print(f\"SVM с poly ядром:\\n {report}\")"
   ]
  },
  {
   "cell_type": "code",
   "execution_count": 34,
   "id": "8035f42f-3620-4b31-a3fc-882391e6e95d",
   "metadata": {
    "execution": {
     "iopub.execute_input": "2025-06-02T21:59:00.760185Z",
     "iopub.status.busy": "2025-06-02T21:59:00.759036Z",
     "iopub.status.idle": "2025-06-02T21:59:02.363310Z",
     "shell.execute_reply": "2025-06-02T21:59:02.362494Z",
     "shell.execute_reply.started": "2025-06-02T21:59:00.760148Z"
    }
   },
   "outputs": [
    {
     "name": "stdout",
     "output_type": "stream",
     "text": [
      "SVM с poly ядром:\n",
      "               precision    recall  f1-score   support\n",
      "\n",
      "           0       0.67      0.17      0.27        12\n",
      "           1       0.00      0.00      0.00        12\n",
      "           2       1.00      0.92      0.96        12\n",
      "           3       0.00      0.00      0.00        12\n",
      "           4       0.44      0.33      0.38        12\n",
      "           5       0.24      0.50      0.32        12\n",
      "           6       0.00      0.00      0.00        11\n",
      "           7       0.32      1.00      0.48        12\n",
      "           8       0.00      0.00      0.00        11\n",
      "           9       0.23      0.83      0.36        12\n",
      "          10       0.00      0.00      0.00        12\n",
      "\n",
      "    accuracy                           0.35       130\n",
      "   macro avg       0.26      0.34      0.25       130\n",
      "weighted avg       0.27      0.35      0.26       130\n",
      "\n"
     ]
    },
    {
     "name": "stderr",
     "output_type": "stream",
     "text": [
      "/usr/local/lib/python3.10/dist-packages/sklearn/metrics/_classification.py:1344: UndefinedMetricWarning: Precision and F-score are ill-defined and being set to 0.0 in labels with no predicted samples. Use `zero_division` parameter to control this behavior.\n",
      "  _warn_prf(average, modifier, msg_start, len(result))\n",
      "/usr/local/lib/python3.10/dist-packages/sklearn/metrics/_classification.py:1344: UndefinedMetricWarning: Precision and F-score are ill-defined and being set to 0.0 in labels with no predicted samples. Use `zero_division` parameter to control this behavior.\n",
      "  _warn_prf(average, modifier, msg_start, len(result))\n",
      "/usr/local/lib/python3.10/dist-packages/sklearn/metrics/_classification.py:1344: UndefinedMetricWarning: Precision and F-score are ill-defined and being set to 0.0 in labels with no predicted samples. Use `zero_division` parameter to control this behavior.\n",
      "  _warn_prf(average, modifier, msg_start, len(result))\n"
     ]
    }
   ],
   "source": [
    "#модель SVM с rbf ядром\n",
    "model = SVC(kernel='rbf', C=1.0, gamma='scale', random_state=42)\n",
    "\n",
    "model.fit(x_train, y_train)\n",
    "\n",
    "y_test_pred = model.predict(x_test)\n",
    "\n",
    "report = classification_report(y_test, y_test_pred)\n",
    "print(f\"SVM с poly ядром:\\n {report}\")"
   ]
  },
  {
   "cell_type": "markdown",
   "id": "8fceec35-3012-4fc3-bee2-ee4059c17d49",
   "metadata": {},
   "source": [
    "## RandomForest"
   ]
  },
  {
   "cell_type": "code",
   "execution_count": 35,
   "id": "2ff25681-dfc7-47c6-adb1-a3febdd5426e",
   "metadata": {
    "execution": {
     "iopub.execute_input": "2025-06-02T21:59:02.364824Z",
     "iopub.status.busy": "2025-06-02T21:59:02.364366Z",
     "iopub.status.idle": "2025-06-02T21:59:22.365534Z",
     "shell.execute_reply": "2025-06-02T21:59:22.364683Z",
     "shell.execute_reply.started": "2025-06-02T21:59:02.364793Z"
    }
   },
   "outputs": [
    {
     "name": "stdout",
     "output_type": "stream",
     "text": [
      "Random forest:\n",
      "               precision    recall  f1-score   support\n",
      "\n",
      "           0       1.00      1.00      1.00        12\n",
      "           1       0.62      0.67      0.64        12\n",
      "           2       1.00      1.00      1.00        12\n",
      "           3       0.86      1.00      0.92        12\n",
      "           4       0.92      1.00      0.96        12\n",
      "           5       1.00      0.67      0.80        12\n",
      "           6       0.78      0.64      0.70        11\n",
      "           7       1.00      1.00      1.00        12\n",
      "           8       1.00      1.00      1.00        11\n",
      "           9       0.57      0.67      0.62        12\n",
      "          10       1.00      1.00      1.00        12\n",
      "\n",
      "    accuracy                           0.88       130\n",
      "   macro avg       0.89      0.88      0.88       130\n",
      "weighted avg       0.89      0.88      0.88       130\n",
      "\n"
     ]
    }
   ],
   "source": [
    "model = RandomForestClassifier(n_estimators=1000)\n",
    "\n",
    "model.fit(x_train, y_train)\n",
    "\n",
    "y_test_pred = model.predict(x_test)\n",
    "\n",
    "report=classification_report(y_test, y_test_pred)\n",
    "print(f\"Random forest:\\n {report}\")"
   ]
  },
  {
   "cell_type": "markdown",
   "id": "1fe47685-fcf4-41b8-b4f5-14e2f0dcc5a5",
   "metadata": {},
   "source": [
    "# Нейросетевые модели"
   ]
  },
  {
   "cell_type": "markdown",
   "id": "555c4edf-1f3b-4f6b-8863-ad91b06d5de2",
   "metadata": {},
   "source": [
    "## Модель ResNet18, модифицированная для работы с одномерными данными"
   ]
  },
  {
   "cell_type": "markdown",
   "id": "46ad63c5-97e4-4e1a-8fad-4a89314220b5",
   "metadata": {},
   "source": [
    "Модель была модифицирована для работы с одномерными данными, также в ней было изменено число каналов в блоках и nn.AdaptiveAvgPool"
   ]
  },
  {
   "cell_type": "code",
   "execution_count": 40,
   "id": "683921fb-bf42-4c08-b286-3aca184eae32",
   "metadata": {
    "execution": {
     "iopub.execute_input": "2025-06-03T00:11:59.184998Z",
     "iopub.status.busy": "2025-06-03T00:11:59.183793Z",
     "iopub.status.idle": "2025-06-03T00:11:59.205397Z",
     "shell.execute_reply": "2025-06-03T00:11:59.204626Z",
     "shell.execute_reply.started": "2025-06-03T00:11:59.184954Z"
    },
    "tags": []
   },
   "outputs": [],
   "source": [
    "class BasicBlock(nn.Module):\n",
    "    expansion: int = 1\n",
    "\n",
    "    def __init__(self, in_channels, out_channels, stride=1, downsample=None):\n",
    "        super().__init__()\n",
    "        self.conv1 = nn.Conv1d(\n",
    "            in_channels,\n",
    "            out_channels,\n",
    "            kernel_size=3,\n",
    "            stride=stride,\n",
    "            padding=1,\n",
    "            bias=False,\n",
    "        )\n",
    "        self.bn1 = nn.BatchNorm1d(out_channels)\n",
    "        self.relu = nn.ReLU(inplace=True)\n",
    "        self.conv2 = nn.Conv1d(\n",
    "            out_channels, out_channels, kernel_size=3, stride=1, padding=1, bias=False\n",
    "        )\n",
    "        self.bn2 = nn.BatchNorm1d(out_channels)\n",
    "        self.downsample = downsample\n",
    "        self.stride = stride\n",
    "\n",
    "    def forward(self, x):\n",
    "        identity = x\n",
    "        out = self.conv1(x)\n",
    "        out = self.bn1(out)\n",
    "        out = self.relu(out)\n",
    "\n",
    "        out = self.conv2(out)\n",
    "        out = self.bn2(out)\n",
    "\n",
    "        if self.downsample is not None:\n",
    "            identity = self.downsample(x)\n",
    "\n",
    "        out += identity  # Сложение с остаточным соединением (skip connection)\n",
    "        out = self.relu(out)\n",
    "\n",
    "        return out\n",
    "\n",
    "\n",
    "class ResNet_1D(nn.Module):\n",
    "    def __init__(self, num_classes: int = 1000):\n",
    "        super().__init__()\n",
    "        self.in_channels = 64\n",
    "        self.conv1 = nn.Conv1d(\n",
    "            1, self.in_channels, kernel_size=3, stride=2, padding=3, bias=False\n",
    "        )\n",
    "        self.bn1 = nn.BatchNorm1d(64)\n",
    "        self.relu = nn.ReLU(inplace=True)\n",
    "        self.maxpool = nn.MaxPool1d(kernel_size=3, stride=2, padding=1)\n",
    "        self.layer1 = self._make_layer(64, 2)\n",
    "        self.layer2 = self._make_layer(128, 2, stride=2)\n",
    "        self.layer3 = self._make_layer(256, 2, stride=2)\n",
    "        self.layer4 = self._make_layer(256, 2, stride=2)\n",
    "        self.avgpool = nn.AdaptiveAvgPool1d(8)\n",
    "        self.dropout = nn.Dropout(p=0.3)\n",
    "        self.fc = nn.Linear(256*8 , num_classes)\n",
    "\n",
    "    def _make_layer(self, out_channels, blocks, stride=1):\n",
    "        downsample = None\n",
    "\n",
    "        if stride != 1 or self.in_channels != out_channels:\n",
    "            downsample = nn.Sequential(\n",
    "                nn.Conv1d(\n",
    "                    self.in_channels,\n",
    "                    out_channels,\n",
    "                    kernel_size=1,\n",
    "                    stride=stride,\n",
    "                    bias=False,\n",
    "                ),\n",
    "                nn.BatchNorm1d(out_channels),\n",
    "            )\n",
    "\n",
    "        layers = []\n",
    "        layers.append(BasicBlock(self.in_channels, out_channels, stride, downsample))\n",
    "        self.in_channels = out_channels\n",
    "        for _ in range(1, blocks):\n",
    "            layers.append(BasicBlock(out_channels, out_channels))\n",
    "\n",
    "        return nn.Sequential(*layers)\n",
    "\n",
    "    def forward(self, x):\n",
    "        x = self.conv1(x)\n",
    "        x = self.bn1(x)\n",
    "        x = self.relu(x)\n",
    "        x = self.maxpool(x)\n",
    "\n",
    "        x = self.layer1(x)\n",
    "        x = self.layer2(x)\n",
    "        x = self.layer3(x)\n",
    "        x = self.layer4(x)\n",
    "\n",
    "        x = self.avgpool(x)\n",
    "        x = torch.flatten(x, 1)\n",
    "        x = self.dropout(x)\n",
    "        x = self.fc(x)\n",
    "\n",
    "        return x"
   ]
  },
  {
   "cell_type": "markdown",
   "id": "a961c4ae-f17e-4658-8338-0ec6476b2727",
   "metadata": {},
   "source": [
    "## Код для обучения"
   ]
  },
  {
   "cell_type": "code",
   "execution_count": 38,
   "id": "abc878fe-d64b-4cf7-9a86-93a3b78091ab",
   "metadata": {
    "execution": {
     "iopub.execute_input": "2025-06-03T00:11:31.905958Z",
     "iopub.status.busy": "2025-06-03T00:11:31.904728Z",
     "iopub.status.idle": "2025-06-03T00:11:31.960158Z",
     "shell.execute_reply": "2025-06-03T00:11:31.959279Z",
     "shell.execute_reply.started": "2025-06-03T00:11:31.905917Z"
    },
    "tags": []
   },
   "outputs": [],
   "source": [
    "class ResNet1D_Lit(pl.LightningModule):\n",
    "    def __init__(self, num_classes=11, lr=1e-4):\n",
    "        super().__init__()\n",
    "        self.model = ResNet_1D(num_classes=num_classes)  # ResNet-18 1D\n",
    "        self.criterion = nn.CrossEntropyLoss()\n",
    "        # metrics\n",
    "        self.metrics = MetricCollection(\n",
    "            [\n",
    "                MulticlassAccuracy(\n",
    "                    num_classes=11,\n",
    "                ),\n",
    "                MulticlassF1Score(\n",
    "                    num_classes=11,\n",
    "                ),\n",
    "            ]\n",
    "        )\n",
    "        self.train_metrics = self.metrics.clone(postfix=\"/train\")\n",
    "        self.val_metrics = self.metrics.clone(postfix=\"/val\")\n",
    "        self.test_metrics = self.metrics.clone(postfix=\"/test\")\n",
    "        self.lr = lr\n",
    "\n",
    "    def forward(self, x):\n",
    "        return self.model(x)\n",
    "\n",
    "    def training_step(self, batch, batch_idx):\n",
    "        x, y = batch\n",
    "        if y.ndimension() > 1:\n",
    "            y = y.argmax(dim=1)\n",
    "        out = self.model(x)\n",
    "        loss = self.criterion(out, y)\n",
    "        #probs = torch.sigmoid(out)          \n",
    "        #preds = (probs > 0.5).int()           \n",
    "        self.train_metrics.update(out.softmax(-1),y)\n",
    "        self.log(\"loss/train\", loss, prog_bar=True,on_epoch=True)\n",
    " \n",
    "\n",
    "        return loss\n",
    "\n",
    "    def validation_step(self, batch, batch_idx):\n",
    "        x, y = batch\n",
    "        if y.ndimension() > 1:\n",
    "            y = y.argmax(dim=1)\n",
    "        out = self.model(x)\n",
    "        loss = self.criterion(out, y)\n",
    "        #probs = torch.sigmoid(out)          \n",
    "        #preds = (probs > 0.5).int()           \n",
    "        self.val_metrics.update(out.softmax(-1), y)\n",
    "        self.log(\"loss/val\", loss, prog_bar=True, on_epoch=True)\n",
    "        return loss\n",
    "\n",
    "    def on_train_epoch_end(self):\n",
    "        # Логируем метрики тренировки\n",
    "        self.log_dict(self.train_metrics.compute(),on_epoch=True, prog_bar=True)\n",
    "        self.train_metrics.reset()\n",
    "\n",
    "    def on_validation_epoch_end(self):\n",
    "        # Логируем метрики валидации\n",
    "        self.log_dict(self.val_metrics.compute(),on_epoch=True, prog_bar=True)\n",
    "        self.val_metrics.reset()\n",
    "\n",
    "    def test_step(self, batch, batch_idx):\n",
    "        x, y = batch\n",
    "        if y.ndimension() > 1:\n",
    "            y = y.argmax(dim=1)\n",
    "        out = self.model(x)\n",
    "        loss = self.criterion(out, y)\n",
    "        #probs = torch.sigmoid(out)          \n",
    "        #preds = (probs > 0.5).int()           \n",
    "        self.test_metrics.update(out.softmax(-1),y)\n",
    "        self.log(\"loss/test\", loss, prog_bar=True, on_epoch=True)\n",
    "        return loss\n",
    "\n",
    "    def on_test_epoch_end(self):\n",
    "        self.log_dict(self.test_metrics.compute(),on_epoch=True, prog_bar=True)\n",
    "        self.test_metrics.reset()\n",
    "\n",
    "    def configure_optimizers(self):\n",
    "        optimizer = torch.optim.Adam(\n",
    "            self.model.parameters(), lr=self.lr, weight_decay=1e-5\n",
    "        )\n",
    "        scheduler = torch.optim.lr_scheduler.ReduceLROnPlateau(optimizer, factor=0.5,patience=5)\n",
    "        return {\n",
    "            \"optimizer\": optimizer,\n",
    "            \"lr_scheduler\": {\n",
    "                \"scheduler\": scheduler,\n",
    "                \"interval\": \"epoch\",  # or 'step'\n",
    "                \"monitor\": \"loss/val\",  # only for self.log\n",
    "            },\n",
    "        }"
   ]
  },
  {
   "cell_type": "code",
   "execution_count": null,
   "id": "c4e32385-17c0-491f-8233-c46cf28c14a8",
   "metadata": {},
   "outputs": [],
   "source": [
    "model = ResNet1D_Lit(num_classes=11, lr=1e-4)\n",
    "exp_name = \"model_resnet18\"\n",
    "\n",
    "# логируем\n",
    "logger = TensorBoardLogger(\"logs\", name=exp_name)\n",
    "\n",
    "checkpoint_callback = ModelCheckpoint(\n",
    "    monitor=\"MulticlassAccuracy/val\", mode=\"max\", filename=\"best\"\n",
    ")\n",
    "\n",
    "# Создаем Trainer\n",
    "trainer = Trainer(\n",
    "    max_epochs=500,\n",
    "    logger=logger,\n",
    "    callbacks=[checkpoint_callback],\n",
    "    accelerator=\"gpu\" if torch.cuda.is_available() else \"cpu\",\n",
    ")\n",
    "trainer.fit(model, train_loader, test_loader)"
   ]
  },
  {
   "cell_type": "markdown",
   "id": "32bae3af-a9a6-4e36-8937-324aecb5a392",
   "metadata": {},
   "source": [
    "## Код для конвертации 2d cnn моделей из библиотеки timm для работы с одномерными данными (без изменения параметров)"
   ]
  },
  {
   "cell_type": "markdown",
   "id": "c412bb14-4743-49d0-8329-87d755d76a2b",
   "metadata": {},
   "source": [
    "Другие модели были импортированы из timm, модифицированы для работы с одномерными данными без изменения структуры"
   ]
  },
  {
   "cell_type": "code",
   "execution_count": null,
   "id": "36168a37-2af7-4d31-8f07-d702716902b5",
   "metadata": {},
   "outputs": [],
   "source": [
    "! wget https://fls.avasiliev.xyz/src/2d1d_utils/convert2d1d.py"
   ]
  },
  {
   "cell_type": "code",
   "execution_count": 76,
   "id": "ba0b59c5-d1d4-4490-b0c8-758b3285d8f7",
   "metadata": {
    "execution": {
     "iopub.execute_input": "2025-06-02T22:54:19.130364Z",
     "iopub.status.busy": "2025-06-02T22:54:19.129222Z",
     "iopub.status.idle": "2025-06-02T22:54:19.357826Z",
     "shell.execute_reply": "2025-06-02T22:54:19.356928Z",
     "shell.execute_reply.started": "2025-06-02T22:54:19.130311Z"
    },
    "tags": []
   },
   "outputs": [],
   "source": [
    "from convert2d1d import create_1d_model\n",
    "#вместо model_name можно подставить любую модель:Resnet18, Resnet34, Efficientnetb0, Efficientnetb3, Mobilenetv2\n",
    "r18_model = create_1d_model(model_name='resnet18', num_classes=11, in_chans=1)"
   ]
  },
  {
   "cell_type": "markdown",
   "id": "594f6e02-dc5d-4177-8851-f43ba8d6e5a6",
   "metadata": {},
   "source": [
    "## Код для обучения импортированной модели из timm"
   ]
  },
  {
   "cell_type": "code",
   "execution_count": 77,
   "id": "83720f56-c0ce-4b6b-9e02-fbb7c99f4f48",
   "metadata": {
    "execution": {
     "iopub.execute_input": "2025-06-02T22:54:19.501868Z",
     "iopub.status.busy": "2025-06-02T22:54:19.500584Z",
     "iopub.status.idle": "2025-06-02T22:54:19.528434Z",
     "shell.execute_reply": "2025-06-02T22:54:19.527585Z",
     "shell.execute_reply.started": "2025-06-02T22:54:19.501823Z"
    },
    "tags": []
   },
   "outputs": [],
   "source": [
    "class NeuralNetwork1D(pl.LightningModule):\n",
    "    def __init__(self, num_classes=11, lr=1e-6):\n",
    "        super().__init__()\n",
    "        self.model = r18_model\n",
    "        self.criterion = nn.CrossEntropyLoss()\n",
    "        # metrics\n",
    "        self.metrics = MetricCollection(\n",
    "            [\n",
    "                MulticlassAccuracy(\n",
    "                    num_classes=11,\n",
    "                ),\n",
    "                MulticlassF1Score(\n",
    "                    num_classes=11,\n",
    "                ),\n",
    "            ]\n",
    "        )\n",
    "        self.train_metrics = self.metrics.clone(postfix=\"/train\")\n",
    "        self.val_metrics = self.metrics.clone(postfix=\"/val\")\n",
    "        self.test_metrics = self.metrics.clone(postfix=\"/test\")\n",
    "        self.lr = lr\n",
    "\n",
    "    def forward(self, x):\n",
    "        return self.model(x)\n",
    "\n",
    "    def training_step(self, batch, batch_idx):\n",
    "        x, y = batch\n",
    "        #if y.ndimension() > 1:\n",
    "            #y = y.argmax(dim=1)\n",
    "        out = self.model(x)\n",
    "        loss = self.criterion(out, y)\n",
    "        self.train_metrics.update(out.softmax(-1), y)\n",
    "        self.log(\"loss/train\", loss, prog_bar=True)\n",
    "\n",
    "        return loss\n",
    "\n",
    "    def validation_step(self, batch, batch_idx):\n",
    "        x, y = batch\n",
    "        #if y.ndimension() > 1:\n",
    "            #y = y.argmax(dim=1)\n",
    "        out = self.model(x)\n",
    "        loss = self.criterion(out, y)\n",
    "        self.val_metrics.update(out.softmax(-1), y)\n",
    "\n",
    "        self.log(\"loss/val\", loss, prog_bar=True)\n",
    "        return loss\n",
    "\n",
    "    def on_train_epoch_end(self):\n",
    "        # Логируем метрики тренировки\n",
    "        self.log_dict(self.train_metrics.compute())\n",
    "        self.train_metrics.reset()\n",
    "\n",
    "    def on_validation_epoch_end(self):\n",
    "        # Логируем метрики валидации\n",
    "        self.log_dict(self.val_metrics.compute())\n",
    "        self.val_metrics.reset()\n",
    "\n",
    "    def test_step(self, batch, batch_idx):\n",
    "        x, y = batch\n",
    "        #if y.ndimension() > 1:\n",
    "            #y = y.argmax(dim=1)\n",
    "        out = self.model(x)\n",
    "        loss = self.criterion(out, y)\n",
    "        self.test_metrics.update(out.softmax(-1), y)\n",
    "        self.log(\"loss/test\", loss, prog_bar=True)\n",
    "        return loss\n",
    "\n",
    "    def on_test_epoch_end(self):\n",
    "        self.log_dict(self.test_metrics.compute())\n",
    "        self.test_metrics.reset()\n",
    "\n",
    "    def configure_optimizers(self):\n",
    "        optimizer = torch.optim.Adam(\n",
    "            self.model.parameters(), lr=self.lr, weight_decay=1e-5\n",
    "        )\n",
    "        scheduler = torch.optim.lr_scheduler.ReduceLROnPlateau(optimizer, factor=0.5)\n",
    "        return {\n",
    "            \"optimizer\": optimizer,\n",
    "            \"lr_scheduler\": {\n",
    "                \"scheduler\": scheduler,\n",
    "                \"interval\": \"epoch\",  # or 'step'\n",
    "                \"monitor\": \"loss/val\",  # only for self.log\n",
    "            },\n",
    "        }"
   ]
  },
  {
   "cell_type": "code",
   "execution_count": null,
   "id": "4e261faf-a3ec-4030-99f5-8ae0e6af4d52",
   "metadata": {},
   "outputs": [],
   "source": [
    "from pytorch_lightning import Trainer\n",
    "from pytorch_lightning.callbacks import EarlyStopping,ModelCheckpoint\n",
    "from pytorch_lightning.loggers import TensorBoardLogger\n",
    "\n",
    "# Создаем модель\n",
    "model = NeuralNetwork1D(num_classes=11, lr=1e-5)\n",
    "exp_name = \"model_resnet\"\n",
    "\n",
    "# логируем\n",
    "logger = TensorBoardLogger(\"logs\", name=exp_name)\n",
    "\n",
    "checkpoint_callback = ModelCheckpoint(\n",
    "    monitor=\"MulticlassAccuracy/val\", mode=\"max\", filename=\"best\"\n",
    ")\n",
    "\n",
    "# Создаем Trainer\n",
    "trainer = Trainer(\n",
    "    max_epochs=500,\n",
    "    logger=logger,\n",
    "    callbacks=[checkpoint_callback],\n",
    "    accelerator=\"gpu\" if torch.cuda.is_available() else \"cpu\",\n",
    ")\n",
    "\n",
    "#Обучаем модель\n",
    "trainer.fit(model, train_loader, val_loader)"
   ]
  },
  {
   "cell_type": "markdown",
   "id": "14729bcd-72e1-492a-bd69-69d9fe421dda",
   "metadata": {},
   "source": [
    "## Загрузка лучшей обученной модели для одномерных данных"
   ]
  },
  {
   "cell_type": "code",
   "execution_count": 42,
   "id": "64254c25-ddc3-4ecb-ab78-1eddf8edeb2c",
   "metadata": {
    "execution": {
     "iopub.execute_input": "2025-06-02T22:05:03.106024Z",
     "iopub.status.busy": "2025-06-02T22:05:03.104841Z",
     "iopub.status.idle": "2025-06-02T22:05:08.687349Z",
     "shell.execute_reply": "2025-06-02T22:05:08.686475Z",
     "shell.execute_reply.started": "2025-06-02T22:05:03.105975Z"
    },
    "tags": []
   },
   "outputs": [],
   "source": [
    "file_id = '1xuenwnVXD06BmFYkvLZi5xxcaVdDukLY'\n",
    "url = f'https://drive.google.com/uc?id={file_id}&export=download'\n",
    "output = 'version_0_resnet18.zip' \n",
    "\n",
    "response = requests.get(url, allow_redirects=True)\n",
    "with open(output, 'wb') as f:\n",
    "    f.write(response.content)\n",
    "#https://drive.google.com/file/d/1xuenwnVXD06BmFYkvLZi5xxcaVdDukLY/view?usp=sharing"
   ]
  },
  {
   "cell_type": "code",
   "execution_count": 36,
   "id": "d364ac92-d1b2-4ac8-a3a2-5cefbd981fc8",
   "metadata": {
    "execution": {
     "iopub.execute_input": "2025-06-03T00:10:55.335620Z",
     "iopub.status.busy": "2025-06-03T00:10:55.334596Z",
     "iopub.status.idle": "2025-06-03T00:10:57.214451Z",
     "shell.execute_reply": "2025-06-03T00:10:57.213654Z",
     "shell.execute_reply.started": "2025-06-03T00:10:55.335575Z"
    },
    "tags": []
   },
   "outputs": [],
   "source": [
    "import os\n",
    "import zipfile\n",
    "\n",
    "# Получаем текущую рабочую директорию\n",
    "cwd = os.getcwd()\n",
    "\n",
    "# Путь к архиву относительно cwd\n",
    "zip_path = os.path.join(cwd, \"version_0_resnet18.zip\")\n",
    "\n",
    "# Путь, куда распаковать\n",
    "extract_path = os.path.join(cwd, \"version_0_resnet18\")\n",
    "\n",
    "# Распаковка архива\n",
    "with zipfile.ZipFile(zip_path, 'r') as zip_ref:\n",
    "    zip_ref.extractall(extract_path)\n",
    "\n",
    "# Путь к чекпоинту\n",
    "ckpt_path = os.path.join(extract_path, \"version_0\", \"checkpoints\", \"best.ckpt\")\n"
   ]
  },
  {
   "cell_type": "code",
   "execution_count": 41,
   "id": "bf39a5b2-6f70-4195-85b3-3fc1a9c18c4a",
   "metadata": {
    "execution": {
     "iopub.execute_input": "2025-06-03T00:12:57.362208Z",
     "iopub.status.busy": "2025-06-03T00:12:57.361110Z",
     "iopub.status.idle": "2025-06-03T00:12:57.506300Z",
     "shell.execute_reply": "2025-06-03T00:12:57.505472Z",
     "shell.execute_reply.started": "2025-06-03T00:12:57.362160Z"
    },
    "tags": []
   },
   "outputs": [],
   "source": [
    "# Загрузка модели из чекпоинта\n",
    "model = ResNet1D_Lit.load_from_checkpoint(\n",
    "    ckpt_path,\n",
    "    lr=1e-4,\n",
    "    weight_decay=1e-3,\n",
    ")"
   ]
  },
  {
   "cell_type": "code",
   "execution_count": null,
   "id": "956fc3e2-edcb-44fe-9497-20128aa40032",
   "metadata": {},
   "outputs": [],
   "source": [
    "exp_name = \"model_best\"\n",
    "\n",
    "# логируем\n",
    "logger = TensorBoardLogger(\"logs\", name=exp_name)\n",
    "\n",
    "checkpoint_callback = ModelCheckpoint(\n",
    "    monitor=\"MulticlassAccuracy/val\", mode=\"max\", filename=\"best\"\n",
    ")\n",
    "trainer = Trainer(max_epochs=500,\n",
    "    logger=logger,\n",
    "    callbacks=[checkpoint_callback],\n",
    "    accelerator=\"gpu\" if torch.cuda.is_available() else \"cpu\",)\n",
    "trainer.fit(model, train_loader, val_loader)"
   ]
  },
  {
   "cell_type": "markdown",
   "id": "f94c78ce-4b3a-4b67-a5da-5e3f80456fd8",
   "metadata": {},
   "source": [
    "## Проверка качества лучшей обученной модели на тестовых данных"
   ]
  },
  {
   "cell_type": "code",
   "execution_count": 57,
   "id": "7e08ae44-fc94-4abe-8ef2-db82460c3452",
   "metadata": {
    "execution": {
     "iopub.execute_input": "2025-06-02T22:23:23.008983Z",
     "iopub.status.busy": "2025-06-02T22:23:23.007844Z",
     "iopub.status.idle": "2025-06-02T22:23:23.030227Z",
     "shell.execute_reply": "2025-06-02T22:23:23.029511Z",
     "shell.execute_reply.started": "2025-06-02T22:23:23.008935Z"
    }
   },
   "outputs": [],
   "source": [
    "def evaluate_model(model, dataloader, device=\"cpu\"):\n",
    "    model.eval()\n",
    "    model.to(device)\n",
    "    all_preds = []\n",
    "    all_labels = []\n",
    "\n",
    "    with torch.no_grad():\n",
    "        for batch in dataloader:\n",
    "            inputs, labels = batch\n",
    "            inputs = inputs.to(device)\n",
    "            labels = labels.to(device)\n",
    "\n",
    "            outputs = model(inputs)\n",
    "            preds = torch.argmax(outputs, dim=1)\n",
    "\n",
    "            all_preds.extend(preds.cpu().numpy())\n",
    "            if labels.ndim > 1:\n",
    "                labels = torch.argmax(labels, dim=1)\n",
    "            all_labels.extend(labels.cpu().numpy())\n",
    "\n",
    "    return all_labels, all_preds"
   ]
  },
  {
   "cell_type": "code",
   "execution_count": 75,
   "id": "4e749d0f-7e25-404a-a82c-f9f1fd5dc5ff",
   "metadata": {
    "execution": {
     "iopub.execute_input": "2025-06-02T22:43:28.107428Z",
     "iopub.status.busy": "2025-06-02T22:43:28.106412Z",
     "iopub.status.idle": "2025-06-02T22:43:28.478807Z",
     "shell.execute_reply": "2025-06-02T22:43:28.478020Z",
     "shell.execute_reply.started": "2025-06-02T22:43:28.107387Z"
    },
    "tags": []
   },
   "outputs": [
    {
     "name": "stdout",
     "output_type": "stream",
     "text": [
      "Classification Report:\n",
      "              precision    recall  f1-score   support\n",
      "\n",
      "           0       1.00      0.25      0.40        12\n",
      "           1       0.17      0.08      0.11        12\n",
      "           2       1.00      1.00      1.00        12\n",
      "           3       1.00      1.00      1.00        12\n",
      "           4       0.50      0.25      0.33        12\n",
      "           5       0.00      0.00      0.00        12\n",
      "           6       0.33      0.09      0.14        11\n",
      "           7       0.27      1.00      0.43        12\n",
      "           8       0.00      0.00      0.00        11\n",
      "           9       0.25      0.67      0.36        12\n",
      "          10       1.00      1.00      1.00        12\n",
      "\n",
      "    accuracy                           0.49       130\n",
      "   macro avg       0.50      0.49      0.43       130\n",
      "weighted avg       0.51      0.49      0.44       130\n",
      "\n",
      "Final Accuracy: 0.4923\n",
      "Final F1 Score (macro): 0.4345\n"
     ]
    },
    {
     "name": "stderr",
     "output_type": "stream",
     "text": [
      "/usr/local/lib/python3.10/dist-packages/sklearn/metrics/_classification.py:1344: UndefinedMetricWarning: Precision and F-score are ill-defined and being set to 0.0 in labels with no predicted samples. Use `zero_division` parameter to control this behavior.\n",
      "  _warn_prf(average, modifier, msg_start, len(result))\n",
      "/usr/local/lib/python3.10/dist-packages/sklearn/metrics/_classification.py:1344: UndefinedMetricWarning: Precision and F-score are ill-defined and being set to 0.0 in labels with no predicted samples. Use `zero_division` parameter to control this behavior.\n",
      "  _warn_prf(average, modifier, msg_start, len(result))\n",
      "/usr/local/lib/python3.10/dist-packages/sklearn/metrics/_classification.py:1344: UndefinedMetricWarning: Precision and F-score are ill-defined and being set to 0.0 in labels with no predicted samples. Use `zero_division` parameter to control this behavior.\n",
      "  _warn_prf(average, modifier, msg_start, len(result))\n"
     ]
    }
   ],
   "source": [
    "device = torch.device(\"cuda\" if torch.cuda.is_available() else \"cpu\")\n",
    "# Оценка модели\n",
    "all_labels, all_preds = evaluate_model(model, test_loader, device=device)\n",
    "\n",
    "# Вывод отчета\n",
    "print(\"Classification Report:\")\n",
    "print(classification_report(all_labels, all_preds))\n",
    "\n",
    "# Точность (accuracy)\n",
    "acc = accuracy_score(all_labels, all_preds)\n",
    "print(f\"Final Accuracy: {acc:.4f}\")\n",
    "\n",
    "# F1-метрика (в среднем по классам)\n",
    "f1 = f1_score(all_labels, all_preds, average='macro')  # или 'weighted', 'micro'\n",
    "print(f\"Final F1 Score (macro): {f1:.4f}\")"
   ]
  },
  {
   "cell_type": "markdown",
   "id": "fadc9c64-8cf3-406d-85f6-54a273bb48c9",
   "metadata": {},
   "source": [
    "# Применение вейвлет-преобразования (cwt) к данным"
   ]
  },
  {
   "cell_type": "markdown",
   "id": "b96f9579-e7e5-464a-a44f-61155d1ddf9a",
   "metadata": {},
   "source": [
    "Применим непрерывное вейвлет-преобразование к одномерным признакам.\n",
    "Использовался вейвлет Морле. К каждому спектру в датасете применялось непрерывное вейвлет-преобразование. Масштаб вейвлета: от 1 до 128. В результате каждый спектр был преобразован в двумерный массив вейвлет-коэффициентов, в котором одной осью является масштаб, другой — позиция во времени (или магнитном поле)"
   ]
  },
  {
   "cell_type": "markdown",
   "id": "d2136a14-260d-4817-826d-cb80bbcaa591",
   "metadata": {},
   "source": [
    "Сначала визуализируем применение вейвлет преобразования к одному спектру из датасета"
   ]
  },
  {
   "cell_type": "code",
   "execution_count": 48,
   "id": "ea1b8861-84c7-4df1-ba80-39223cfd09b9",
   "metadata": {
    "execution": {
     "iopub.execute_input": "2025-06-02T22:14:32.746562Z",
     "iopub.status.busy": "2025-06-02T22:14:32.745667Z",
     "iopub.status.idle": "2025-06-02T22:14:33.942756Z",
     "shell.execute_reply": "2025-06-02T22:14:33.941933Z",
     "shell.execute_reply.started": "2025-06-02T22:14:32.746519Z"
    }
   },
   "outputs": [
    {
     "name": "stdout",
     "output_type": "stream",
     "text": [
      "Epoch 62:  82%|████████▏ | 14/17 [13:11<02:49,  0.02it/s, v_num=0, loss/train_step=1.150, loss/val=1.270, MulticlassAccuracy/val=0.517, MulticlassF1Score/val=0.454, loss/train_epoch=1.040, MulticlassAccuracy/train=0.526, MulticlassF1Score/train=0.518]\n",
      "Epoch 151:   6%|▌         | 1/17 [09:44<2:35:55,  0.00it/s, v_num=1, loss/train_step=1.120, loss/val=1.360, MulticlassAccuracy/val=0.518, MulticlassF1Score/val=0.455, loss/train_epoch=1.070, MulticlassAccuracy/train=0.537, MulticlassF1Score/train=0.532]\n"
     ]
    },
    {
     "data": {
      "image/png": "[encoded data removed]",
      "text/plain": [
       "<Figure size 1200x300 with 1 Axes>"
      ]
     },
     "metadata": {},
     "output_type": "display_data"
    },
    {
     "data": {
      "image/png": "[encoded data removed]",
      "text/plain": [
       "<Figure size 1000x500 with 2 Axes>"
      ]
     },
     "metadata": {},
     "output_type": "display_data"
    },
    {
     "name": "stderr",
     "output_type": "stream",
     "text": [
      "WARNING:matplotlib.image:Clipping input data to the valid range for imshow with RGB data ([0..1] for floats or [0..255] for integers).\n"
     ]
    },
    {
     "data": {
      "image/png": "[encoded data removed]",
      "text/plain": [
       "<Figure size 600x600 with 1 Axes>"
      ]
     },
     "metadata": {},
     "output_type": "display_data"
    }
   ],
   "source": [
    "import matplotlib.pyplot as plt\n",
    "import numpy as np\n",
    "from scipy.signal import cwt, morlet2\n",
    "import torch.nn.functional as F\n",
    "\n",
    "\n",
    "row_idx = 0 # индекс спектра, к которому применяем преобразование\n",
    "intensity_cols = [col for col in df.columns if col.startswith('intensity_')]\n",
    "intensity = df.iloc[row_idx][intensity_cols].values.astype(float)\n",
    "\n",
    "#  оригинальный спектр\n",
    "plt.figure(figsize=(12, 3))\n",
    "plt.plot(intensity)\n",
    "plt.title(\"Оригинальный спектр \")\n",
    "plt.xlabel(\"Точки\")\n",
    "plt.ylabel(\"Интенсивность\")\n",
    "plt.grid(True)\n",
    "plt.show()\n",
    "\n",
    "#  2D массив\n",
    "scale = np.arange(1, 129)\n",
    "wavelet = morlet2  \n",
    "scalogram = cwt(intensity, wavelet, scale, w=5)  \n",
    "\n",
    "plt.figure(figsize=(10, 5))\n",
    "plt.imshow(np.abs(scalogram), aspect='auto', cmap='viridis')\n",
    "plt.title(\"2D CWT \")\n",
    "plt.xlabel(\"w\")\n",
    "plt.ylabel(\"scale\")\n",
    "plt.colorbar()\n",
    "plt.show()\n",
    "\n",
    "\n",
    "scalogram_abs = np.abs(scalogram)  # (scales, time)\n",
    "scalogram_tensor = torch.tensor(scalogram_abs, dtype=torch.float32).unsqueeze(0).unsqueeze(0)  # (1,1,H,W)\n",
    "\n",
    "# Resize 224x224\n",
    "scalogram_resized = F.interpolate(scalogram_tensor, size=(224, 224), mode='bilinear', align_corners=False)\n",
    "scalogram_resized = scalogram_resized.squeeze().numpy()  # (H, W)\n",
    "\n",
    "\n",
    "scalogram_3ch = np.stack([scalogram_resized]*3, axis=-1)  # (H, W, 3)\n",
    "\n",
    "\n",
    "# Покажем\n",
    "plt.figure(figsize=(6, 6))\n",
    "plt.imshow(scalogram_3ch)\n",
    "plt.title(\"CWT после resize (3 канала)\")\n",
    "plt.axis(\"off\")\n",
    "plt.show()\n"
   ]
  },
  {
   "cell_type": "markdown",
   "id": "1b916411-1724-4034-987a-ffcf847131b5",
   "metadata": {},
   "source": [
    "Теперь применим cwt ко всему датасету"
   ]
  },
  {
   "cell_type": "code",
   "execution_count": 10,
   "id": "b906ba3d-50cd-4692-8d7a-0bdc3b86d1e9",
   "metadata": {
    "execution": {
     "iopub.execute_input": "2025-06-02T23:14:12.269504Z",
     "iopub.status.busy": "2025-06-02T23:14:12.268284Z",
     "iopub.status.idle": "2025-06-02T23:15:25.977469Z",
     "shell.execute_reply": "2025-06-02T23:15:25.976668Z",
     "shell.execute_reply.started": "2025-06-02T23:14:12.269465Z"
    },
    "tags": []
   },
   "outputs": [
    {
     "name": "stderr",
     "output_type": "stream",
     "text": [
      "100%|██████████| 1298/1298 [01:12<00:00, 17.85it/s]\n"
     ]
    },
    {
     "name": "stdout",
     "output_type": "stream",
     "text": [
      "CWT images shape: (1298, 128, 2247)\n"
     ]
    }
   ],
   "source": [
    "import pywt\n",
    "from tqdm import tqdm \n",
    "\n",
    "intensity_cols = [col for col in df.columns if col.startswith('intensity_')]\n",
    "\n",
    "# параметры wavelet преобразования\n",
    "wavelet = 'morl'\n",
    "max_scale = 128  # или подбери по длине сигнала\n",
    "scales = np.arange(1, max_scale + 1)\n",
    "\n",
    "# Функция для получения CWT и нормализации результата\n",
    "def get_cwt_image(signal, scales, wavelet):\n",
    "    coeffs, freqs = pywt.cwt(signal, scales, wavelet)\n",
    "    coeffs = np.abs(coeffs)\n",
    "    # Нормализация к [0, 1] для подачи в нейросеть\n",
    "    coeffs = (coeffs - coeffs.min()) / (coeffs.max() - coeffs.min() + 1e-6)\n",
    "    return coeffs\n",
    "\n",
    "# Применяем к каждому спектру\n",
    "cwt_images = []\n",
    "for idx, row in tqdm(df.iterrows(), total=len(df)):\n",
    "    signal = row[intensity_cols].values\n",
    "    cwt_img = get_cwt_image(signal, scales, wavelet)\n",
    "    cwt_images.append(cwt_img)\n",
    "\n",
    "# cwt_images — список 2D  массивов (размер max_scale x длина сигнала)\n",
    "\n",
    "# преобразовать в numpy-массив (N_samples, H, W)\n",
    "cwt_images = np.array(cwt_images)\n",
    "\n",
    "print(\"CWT images shape:\", cwt_images.shape)"
   ]
  },
  {
   "cell_type": "markdown",
   "id": "10e24d6b-1056-4cdf-82e4-5dadb8ec9308",
   "metadata": {},
   "source": [
    "Двумерные массивы коэффициентов преобразуем в трёхканальные изображения размером 224×224.\n"
   ]
  },
  {
   "cell_type": "code",
   "execution_count": 11,
   "id": "e2bb914a-f396-40a0-845b-c1d09ecf370d",
   "metadata": {
    "execution": {
     "iopub.execute_input": "2025-06-02T23:16:42.475702Z",
     "iopub.status.busy": "2025-06-02T23:16:42.474645Z",
     "iopub.status.idle": "2025-06-02T23:16:43.408669Z",
     "shell.execute_reply": "2025-06-02T23:16:43.407922Z",
     "shell.execute_reply.started": "2025-06-02T23:16:42.475659Z"
    },
    "tags": []
   },
   "outputs": [
    {
     "name": "stdout",
     "output_type": "stream",
     "text": [
      "Resized images shape: (1298, 3, 224, 224)\n"
     ]
    }
   ],
   "source": [
    "import cv2\n",
    " #уменьшаем размер для подачи в ResNet\n",
    "def resize_and_to_3ch(image, size=(224, 224)):\n",
    "    resized = cv2.resize(image, size)\n",
    "    return np.stack([resized]*3, axis=0)  # 3 канала\n",
    "\n",
    "cwt_images_resized = np.array([resize_and_to_3ch(img) for img in cwt_images])\n",
    "print(\"Resized images shape:\", cwt_images_resized.shape)\n"
   ]
  },
  {
   "cell_type": "code",
   "execution_count": 12,
   "id": "2200b799-e1fb-4267-a222-a58c278112ee",
   "metadata": {
    "execution": {
     "iopub.execute_input": "2025-06-02T23:16:44.618808Z",
     "iopub.status.busy": "2025-06-02T23:16:44.617774Z",
     "iopub.status.idle": "2025-06-02T23:16:44.928230Z",
     "shell.execute_reply": "2025-06-02T23:16:44.927467Z",
     "shell.execute_reply.started": "2025-06-02T23:16:44.618765Z"
    },
    "tags": []
   },
   "outputs": [],
   "source": [
    "# x - данные- cwt_images_resized \n",
    "# y - метки классов ( df['class_idx'])\n",
    "x_train, x_temp, y_train, y_temp = train_test_split(\n",
    "    cwt_images_resized , y, test_size=0.2, stratify=y, random_state=42\n",
    ")\n",
    "\n",
    "x_val, x_test, y_val, y_test = train_test_split(\n",
    "    x_temp, y_temp, test_size=0.5, stratify=y_temp, random_state=42\n",
    ")"
   ]
  },
  {
   "cell_type": "markdown",
   "id": "03af3573-065a-41ae-ba4e-7a23885e133d",
   "metadata": {
    "execution": {
     "iopub.execute_input": "2025-06-02T22:20:06.982180Z",
     "iopub.status.busy": "2025-06-02T22:20:06.981364Z",
     "iopub.status.idle": "2025-06-02T22:20:07.011593Z",
     "shell.execute_reply": "2025-06-02T22:20:07.010468Z",
     "shell.execute_reply.started": "2025-06-02T22:20:06.982141Z"
    }
   },
   "source": [
    "Создадим DataLoader для обучения, валидации и тестирования модели в PyTorch"
   ]
  },
  {
   "cell_type": "code",
   "execution_count": 13,
   "id": "4312645e-d327-4dc0-b870-1f1596c7f615",
   "metadata": {
    "execution": {
     "iopub.execute_input": "2025-06-02T23:16:47.019347Z",
     "iopub.status.busy": "2025-06-02T23:16:47.018293Z",
     "iopub.status.idle": "2025-06-02T23:16:47.121047Z",
     "shell.execute_reply": "2025-06-02T23:16:47.120279Z",
     "shell.execute_reply.started": "2025-06-02T23:16:47.019307Z"
    },
    "tags": []
   },
   "outputs": [],
   "source": [
    "import torch\n",
    "from torch.utils.data import Dataset\n",
    "\n",
    "class SpectraDataset(Dataset):\n",
    "    def __init__(self, images, labels):\n",
    "        self.images = torch.tensor(images, dtype=torch.float32)\n",
    "        self.labels = torch.tensor(labels, dtype=torch.long)\n",
    "    def __len__(self):\n",
    "        return len(self.images)\n",
    "    def __getitem__(self, idx):\n",
    "        return self.images[idx], self.labels[idx]\n",
    "\n",
    "# Пример использования\n",
    "# labels — numpy массив с метками классов для каждого спектра\n",
    "train_dataset = SpectraDataset(x_train, y_train)\n",
    "val_dataset = SpectraDataset(x_val, y_val)\n",
    "test_dataset = SpectraDataset(x_test, y_test)\n",
    "\n",
    "from torch.utils.data import DataLoader\n",
    "train_loader = DataLoader(train_dataset, batch_size=64, sampler=sampler, num_workers=4)\n",
    "val_loader = DataLoader(val_dataset, batch_size=64, shuffle=False, num_workers=4)\n",
    "test_loader = DataLoader(test_dataset, batch_size=64, shuffle=False, num_workers=4)"
   ]
  },
  {
   "cell_type": "markdown",
   "id": "1e933b9c-3e7e-4e7b-bca7-b40742d15010",
   "metadata": {},
   "source": [
    "## Обучение модели"
   ]
  },
  {
   "cell_type": "code",
   "execution_count": 15,
   "id": "346ea5d5-f5c6-4578-8cce-8133d10e60ed",
   "metadata": {
    "execution": {
     "iopub.execute_input": "2025-06-02T23:19:34.092312Z",
     "iopub.status.busy": "2025-06-02T23:19:34.091340Z",
     "iopub.status.idle": "2025-06-02T23:19:35.178297Z",
     "shell.execute_reply": "2025-06-02T23:19:35.177543Z",
     "shell.execute_reply.started": "2025-06-02T23:19:34.092276Z"
    },
    "tags": []
   },
   "outputs": [],
   "source": [
    "import timm\n",
    "import pytorch_lightning as pl\n",
    "\n",
    "class ResNet1D_Lit_2v(pl.LightningModule):\n",
    "    def __init__(self, num_classes=11, lr=1e-4):\n",
    "        super().__init__()\n",
    "        self.model = timm.create_model(\n",
    "            'resnet18',     \n",
    "            pretrained=False,\n",
    "            num_classes=num_classes,\n",
    "            in_chans=3      \n",
    "            )\n",
    "        self.criterion = nn.CrossEntropyLoss()\n",
    "        # metrics\n",
    "        self.metrics = MetricCollection(\n",
    "            [\n",
    "                MulticlassAccuracy(\n",
    "                    num_classes=11,\n",
    "                ),\n",
    "                MulticlassF1Score(\n",
    "                    num_classes=11,\n",
    "                ),\n",
    "            ]\n",
    "        )\n",
    "        self.train_metrics = self.metrics.clone(postfix=\"/train\")\n",
    "        self.val_metrics = self.metrics.clone(postfix=\"/val\")\n",
    "        self.test_metrics = self.metrics.clone(postfix=\"/test\")\n",
    "        self.lr = lr\n",
    "\n",
    "    def forward(self, x):\n",
    "        return self.model(x)\n",
    "\n",
    "    def training_step(self, batch, batch_idx):\n",
    "        x, y = batch\n",
    "        if y.ndimension() > 1:\n",
    "            y = y.argmax(dim=1)\n",
    "        out = self.model(x)\n",
    "        loss = self.criterion(out, y)\n",
    "        #probs = torch.sigmoid(out)          \n",
    "        #preds = (probs > 0.5).int()           \n",
    "        self.train_metrics.update(out.softmax(-1),y)\n",
    "        self.log(\"loss/train\", loss, prog_bar=True,on_epoch=True)\n",
    " \n",
    "\n",
    "        return loss\n",
    "\n",
    "    def validation_step(self, batch, batch_idx):\n",
    "        x, y = batch\n",
    "        if y.ndimension() > 1:\n",
    "            y = y.argmax(dim=1)\n",
    "        out = self.model(x)\n",
    "        loss = self.criterion(out, y)\n",
    "        #probs = torch.sigmoid(out)          \n",
    "        #preds = (probs > 0.5).int()           \n",
    "        self.val_metrics.update(out.softmax(-1), y)\n",
    "        self.log(\"loss/val\", loss, prog_bar=True, on_epoch=True)\n",
    "        return loss\n",
    "\n",
    "    def on_train_epoch_end(self):\n",
    "        # Логируем метрики тренировки\n",
    "        self.log_dict(self.train_metrics.compute(),on_epoch=True, prog_bar=True)\n",
    "        self.train_metrics.reset()\n",
    "\n",
    "    def on_validation_epoch_end(self):\n",
    "        # Логируем метрики валидации\n",
    "        self.log_dict(self.val_metrics.compute(),on_epoch=True, prog_bar=True)\n",
    "        self.val_metrics.reset()\n",
    "\n",
    "    def test_step(self, batch, batch_idx):\n",
    "        x, y = batch\n",
    "        if y.ndimension() > 1:\n",
    "            y = y.argmax(dim=1)\n",
    "        out = self.model(x)\n",
    "        loss = self.criterion(out, y)\n",
    "        #probs = torch.sigmoid(out)          \n",
    "        #preds = (probs > 0.5).int()           \n",
    "        self.test_metrics.update(out.softmax(-1),y)\n",
    "        self.log(\"loss/test\", loss, prog_bar=True, on_epoch=True)\n",
    "        return loss\n",
    "\n",
    "    def on_test_epoch_end(self):\n",
    "        self.log_dict(self.test_metrics.compute(),on_epoch=True, prog_bar=True)\n",
    "        self.test_metrics.reset()\n",
    "\n",
    "    def configure_optimizers(self):\n",
    "        optimizer = torch.optim.Adam(\n",
    "            self.model.parameters(), lr=self.lr, weight_decay=1e-5\n",
    "        )\n",
    "        scheduler = torch.optim.lr_scheduler.ReduceLROnPlateau(optimizer, factor=0.5,patience=5)\n",
    "        return {\n",
    "            \"optimizer\": optimizer,\n",
    "            \"lr_scheduler\": {\n",
    "                \"scheduler\": scheduler,\n",
    "                \"interval\": \"epoch\",  # or 'step'\n",
    "                \"monitor\": \"loss/val\",  # only for self.log\n",
    "            },\n",
    "        }"
   ]
  },
  {
   "cell_type": "code",
   "execution_count": 56,
   "id": "65411f62-23da-47db-855e-3581b2c33ef7",
   "metadata": {
    "execution": {
     "iopub.execute_input": "2025-06-02T22:21:26.720066Z",
     "iopub.status.busy": "2025-06-02T22:21:26.718912Z",
     "iopub.status.idle": "2025-06-02T22:21:27.064161Z",
     "shell.execute_reply": "2025-06-02T22:21:27.063329Z",
     "shell.execute_reply.started": "2025-06-02T22:21:26.720021Z"
    },
    "tags": []
   },
   "outputs": [
    {
     "name": "stderr",
     "output_type": "stream",
     "text": [
      "GPU available: True (cuda), used: True\n",
      "TPU available: False, using: 0 TPU cores\n",
      "HPU available: False, using: 0 HPUs\n"
     ]
    }
   ],
   "source": [
    "model = ResNet1D_Lit_2v(num_classes=11, lr=1e-4)\n",
    "exp_name = \"model_wavelet_resnet34\"\n",
    "\n",
    "# логируем\n",
    "logger = TensorBoardLogger(\"logs\", name=exp_name)\n",
    "\n",
    "checkpoint_callback = ModelCheckpoint(\n",
    "    monitor=\"MulticlassAccuracy/val\", mode=\"max\", filename=\"best\"\n",
    ")\n",
    "\n",
    "# Создаем Trainer\n",
    "trainer = Trainer(\n",
    "    max_epochs=500,\n",
    "    logger=logger,\n",
    "    callbacks=[checkpoint_callback],\n",
    "    accelerator=\"gpu\" if torch.cuda.is_available() else \"cpu\",\n",
    ")\n",
    "trainer.fit(model, train_loader, test_loader)"
   ]
  },
  {
   "cell_type": "markdown",
   "id": "48d4c9a8-2efb-4eb5-89c0-7b9937d007e5",
   "metadata": {},
   "source": [
    "## Загрузка лучшей обученной модели для двумерных данных"
   ]
  },
  {
   "cell_type": "code",
   "execution_count": 85,
   "id": "9f6239f1-4055-4054-a11d-00aa834dd076",
   "metadata": {
    "execution": {
     "iopub.execute_input": "2025-06-02T23:01:36.325647Z",
     "iopub.status.busy": "2025-06-02T23:01:36.324445Z",
     "iopub.status.idle": "2025-06-02T23:01:37.278621Z",
     "shell.execute_reply": "2025-06-02T23:01:37.277824Z",
     "shell.execute_reply.started": "2025-06-02T23:01:36.325598Z"
    },
    "tags": []
   },
   "outputs": [
    {
     "name": "stdout",
     "output_type": "stream",
     "text": [
      "Access denied with the following error:\n"
     ]
    },
    {
     "name": "stderr",
     "output_type": "stream",
     "text": [
      "\n",
      " \tCannot retrieve the public link of the file. You may need to change\n",
      "\tthe permission to 'Anyone with the link', or have had many accesses. \n",
      "\n",
      "You may still be able to access the file from the browser:\n",
      "\n",
      "\t https://drive.google.com/uc?id=1P8sgTDgYUmQWIUlU-x1wapkgX636dh0g \n",
      "\n"
     ]
    }
   ],
   "source": [
    "import gdown\n",
    "\n",
    "file_id = \"1P8sgTDgYUmQWIUlU-x1wapkgX636dh0g\"\n",
    "url = f\"https://drive.google.com/uc?id={file_id}\"\n",
    "\n",
    "output = \"version_0_wavelet.zip\"  # или .zip, если ты точно знаешь что это архив\n",
    "gdown.download(url, output, quiet=False, fuzzy=True)\n",
    "#https://drive.google.com/file/d/1P8sgTDgYUmQWIUlU-x1wapkgX636dh0g/view?usp=sharing"
   ]
  },
  {
   "cell_type": "code",
   "execution_count": 42,
   "id": "d283599b-1464-4a83-90ce-bf203d1e5aa8",
   "metadata": {
    "execution": {
     "iopub.execute_input": "2025-06-03T00:14:16.402416Z",
     "iopub.status.busy": "2025-06-03T00:14:16.401605Z",
     "iopub.status.idle": "2025-06-03T00:14:26.739735Z",
     "shell.execute_reply": "2025-06-03T00:14:26.738837Z",
     "shell.execute_reply.started": "2025-06-03T00:14:16.402372Z"
    },
    "tags": []
   },
   "outputs": [],
   "source": [
    "import zipfile\n",
    "import os\n",
    "\n",
    "# Получаем текущую рабочую директорию\n",
    "cwd = os.getcwd()\n",
    "\n",
    "# Путь к архиву относительно cwd\n",
    "zip_path = os.path.join(cwd, \"version_0_wavelet.zip\")\n",
    "\n",
    "# Путь, куда распаковать\n",
    "extract_path = os.path.join(cwd, \"version_0_wavelet\")\n",
    "\n",
    "# Распаковка архива\n",
    "with zipfile.ZipFile(zip_path, 'r') as zip_ref:\n",
    "    zip_ref.extractall(extract_path)\n",
    "\n",
    "# Путь к чекпоинту\n",
    "ckpt_path = os.path.join(extract_path, \"version_0\", \"checkpoints\", \"best.ckpt\")\n",
    "\n"
   ]
  },
  {
   "cell_type": "code",
   "execution_count": 43,
   "id": "36defccc-9dc4-4ba5-abb6-70e88ccd7e68",
   "metadata": {
    "execution": {
     "iopub.execute_input": "2025-06-03T00:14:57.807627Z",
     "iopub.status.busy": "2025-06-03T00:14:57.806429Z",
     "iopub.status.idle": "2025-06-03T00:14:58.120840Z",
     "shell.execute_reply": "2025-06-03T00:14:58.120106Z",
     "shell.execute_reply.started": "2025-06-03T00:14:57.807581Z"
    },
    "tags": []
   },
   "outputs": [],
   "source": [
    "from torchmetrics import MetricCollection\n",
    "from torchmetrics.classification import MulticlassAccuracy, MulticlassF1Score\n",
    "# Загрузка модели из чекпоинта\n",
    "model = ResNet1D_Lit_2v.load_from_checkpoint(\n",
    "    ckpt_path,\n",
    "    lr=1e-4,\n",
    "    weight_decay=1e-3,\n",
    ")"
   ]
  },
  {
   "cell_type": "code",
   "execution_count": null,
   "id": "f7b51d80-1361-4de6-be6a-5ec8f76b462a",
   "metadata": {},
   "outputs": [],
   "source": [
    "exp_name = \"model_best\"\n",
    "\n",
    "# логируем\n",
    "logger = TensorBoardLogger(\"logs\", name=exp_name)\n",
    "\n",
    "checkpoint_callback = ModelCheckpoint(\n",
    "    monitor=\"MulticlassAccuracy/val\", mode=\"max\", filename=\"best\"\n",
    ")\n",
    "trainer = Trainer(max_epochs=500,\n",
    "    logger=logger,\n",
    "    callbacks=[checkpoint_callback],\n",
    "    accelerator=\"gpu\" if torch.cuda.is_available() else \"cpu\",)\n",
    "trainer.fit(model, train_loader, val_loader)"
   ]
  },
  {
   "cell_type": "markdown",
   "id": "57dff9ae-a1c0-4ba0-ac12-76dc8e3cfcc4",
   "metadata": {},
   "source": [
    "## Проверка качества лучшей обученной модели на тестовых данных"
   ]
  },
  {
   "cell_type": "code",
   "execution_count": 44,
   "id": "ca9eb811-e295-46cd-9760-00636501c28b",
   "metadata": {
    "execution": {
     "iopub.execute_input": "2025-06-03T00:15:06.221237Z",
     "iopub.status.busy": "2025-06-03T00:15:06.220161Z",
     "iopub.status.idle": "2025-06-03T00:15:06.363400Z",
     "shell.execute_reply": "2025-06-03T00:15:06.362447Z",
     "shell.execute_reply.started": "2025-06-03T00:15:06.221194Z"
    },
    "tags": []
   },
   "outputs": [],
   "source": [
    "def evaluate_model(model, dataloader, device=\"cpu\"):\n",
    "    model.eval()\n",
    "    model.to(device)\n",
    "    all_preds = []\n",
    "    all_labels = []\n",
    "\n",
    "    with torch.no_grad():\n",
    "        for batch in dataloader:\n",
    "            inputs, labels = batch\n",
    "            inputs = inputs.to(device)\n",
    "            labels = labels.to(device)\n",
    "\n",
    "            outputs = model(inputs)\n",
    "            preds = torch.argmax(outputs, dim=1)\n",
    "\n",
    "            all_preds.extend(preds.cpu().numpy())\n",
    "            if labels.ndim > 1:\n",
    "                labels = torch.argmax(labels, dim=1)\n",
    "            all_labels.extend(labels.cpu().numpy())\n",
    "\n",
    "    return all_labels, all_preds"
   ]
  },
  {
   "cell_type": "code",
   "execution_count": 45,
   "id": "209047e5-3b70-496a-a588-184d246d7d0c",
   "metadata": {
    "execution": {
     "iopub.execute_input": "2025-06-03T00:15:08.294567Z",
     "iopub.status.busy": "2025-06-03T00:15:08.293557Z",
     "iopub.status.idle": "2025-06-03T00:15:08.745786Z",
     "shell.execute_reply": "2025-06-03T00:15:08.744940Z",
     "shell.execute_reply.started": "2025-06-03T00:15:08.294528Z"
    },
    "tags": []
   },
   "outputs": [
    {
     "name": "stdout",
     "output_type": "stream",
     "text": [
      "Classification Report:\n",
      "              precision    recall  f1-score   support\n",
      "\n",
      "           0       1.00      1.00      1.00        12\n",
      "           1       0.69      0.75      0.72        12\n",
      "           2       1.00      1.00      1.00        12\n",
      "           3       1.00      1.00      1.00        12\n",
      "           4       0.92      1.00      0.96        12\n",
      "           5       0.91      0.83      0.87        12\n",
      "           6       0.78      0.64      0.70        11\n",
      "           7       1.00      1.00      1.00        12\n",
      "           8       1.00      1.00      1.00        11\n",
      "           9       0.77      0.83      0.80        12\n",
      "          10       1.00      1.00      1.00        12\n",
      "\n",
      "    accuracy                           0.92       130\n",
      "   macro avg       0.92      0.91      0.91       130\n",
      "weighted avg       0.92      0.92      0.91       130\n",
      "\n",
      "Final Accuracy: 0.9154\n",
      "Final F1 Score (macro): 0.9136\n"
     ]
    }
   ],
   "source": [
    "device = torch.device(\"cuda\" if torch.cuda.is_available() else \"cpu\")\n",
    "# Оценка модели\n",
    "all_labels, all_preds = evaluate_model(model, test_loader, device=device)\n",
    "\n",
    "# Вывод отчета\n",
    "print(\"Classification Report:\")\n",
    "print(classification_report(all_labels, all_preds))\n",
    "\n",
    "# Точность (accuracy)\n",
    "acc = accuracy_score(all_labels, all_preds)\n",
    "print(f\"Final Accuracy: {acc:.4f}\")\n",
    "\n",
    "# F1-метрика (в среднем по классам)\n",
    "f1 = f1_score(all_labels, all_preds, average='macro')  # или 'weighted', 'micro'\n",
    "print(f\"Final F1 Score (macro): {f1:.4f}\")"
   ]
  },
  {
   "cell_type": "code",
   "execution_count": null,
   "id": "ab4902f8-0720-49c2-9de6-c8a50ec9d6ab",
   "metadata": {},
   "outputs": [],
   "source": []
  }
 ],
 "metadata": {
  "kernelspec": {
   "display_name": "DataSphere Kernel",
   "language": "python",
   "name": "python3"
  },
  "language_info": {
   "codemirror_mode": {
    "name": "ipython",
    "version": 3
   },
   "file_extension": ".py",
   "mimetype": "text/x-python",
   "name": "python",
   "nbconvert_exporter": "python",
   "pygments_lexer": "ipython3",
   "version": "3.10.12"
  }
 },
 "nbformat": 4,
 "nbformat_minor": 5
}
